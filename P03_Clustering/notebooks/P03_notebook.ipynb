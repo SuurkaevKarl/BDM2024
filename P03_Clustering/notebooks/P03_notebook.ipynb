{
 "cells": [
  {
   "cell_type": "code",
   "execution_count": 1,
   "id": "316839b1-2c21-413d-bff1-08c9f0f58b0e",
   "metadata": {},
   "outputs": [],
   "source": [
    "# SparkContext represents the connection to a Spark cluster\n",
    "from pyspark.context import SparkContext\n",
    "# Configuration for a Spark application\n",
    "from pyspark.conf import SparkConf\n",
    "# The entry point to programming Spark with the Dataset and DataFrame API\n",
    "from pyspark.sql.session import SparkSession\n",
    "\n",
    "spark = SparkSession.builder \\\n",
    "    .appName(\"P03_Clustering\") \\\n",
    "    .config(\"spark.executor.memory\", \"4g\") \\\n",
    "    .config(\"spark.driver.memory\", \"4g\") \\\n",
    "    .getOrCreate()\n",
    "    #.config(\"spark.sql.repl.eagerEval.enabled\", True) \\\n",
    "    #.config(\"spark.sql.repl.eagerEval.truncate\", 500) \\\n",
    "    #.getOrCreate()\n"
   ]
  },
  {
   "cell_type": "code",
   "execution_count": 2,
   "id": "5458e95a-802e-4cd7-ba14-0083aea1db15",
   "metadata": {},
   "outputs": [
    {
     "name": "stdout",
     "output_type": "stream",
     "text": [
      "root\n",
      " |-- abstract: string (nullable = true)\n",
      " |-- authors: array (nullable = true)\n",
      " |    |-- element: string (containsNull = true)\n",
      " |-- id: string (nullable = true)\n",
      " |-- n_citation: long (nullable = true)\n",
      " |-- references: array (nullable = true)\n",
      " |    |-- element: string (containsNull = true)\n",
      " |-- title: string (nullable = true)\n",
      " |-- venue: string (nullable = true)\n",
      " |-- year: long (nullable = true)\n",
      "\n"
     ]
    }
   ],
   "source": [
    "dblp_ref_file_path = \"dblp-ref/dblp-ref-0.json\"\n",
    "papers_df = spark.read.json(dblp_ref_file_path)\n",
    "\n",
    "papers_df.printSchema()"
   ]
  },
  {
   "cell_type": "code",
   "execution_count": 3,
   "id": "98f9a210-2378-43f8-bb79-13bf78767c67",
   "metadata": {},
   "outputs": [
    {
     "name": "stdout",
     "output_type": "stream",
     "text": [
      "+--------------------+--------------------+--------------------+----------+--------------------+--------------------+--------------------+----+\n",
      "|            abstract|             authors|                  id|n_citation|          references|               title|               venue|year|\n",
      "+--------------------+--------------------+--------------------+----------+--------------------+--------------------+--------------------+----+\n",
      "|The purpose of th...|[Makoto Satoh, Ry...|00127ee2-cb05-48c...|         0|[51c7e02e-f5ed-43...|Preliminary Desig...|international con...|2013|\n",
      "|This paper descri...|[Gareth Beale, Gr...|001c58d3-26ad-46b...|        50|[10482dd3-4642-41...|A methodology for...|visual analytics ...|2011|\n",
      "|This article appl...|[Altaf Hossain, F...|001c8744-73c4-4b0...|        50|[2d84c0f2-e656-4c...|Comparison of GAR...|pattern recogniti...|2009|\n",
      "|                NULL|[Jea-Bum Park, By...|00338203-9eb3-40c...|         0|[8c78e4b0-632b-42...|Development of Re...|                    |2011|\n",
      "|                NULL|[Giovanna Guerrin...|0040b022-1472-4f7...|         2|                NULL|Reasonig about Se...|                    |1998|\n",
      "|                NULL|[Rafael Álvarez, ...|005ce28f-ed77-4e9...|         0|                NULL|COMPARING GNG3D A...|international con...|2009|\n",
      "|                NULL|[Jovan Dj. Golic,...|00638a94-23bf-4fa...|         2|                NULL|Vectorial fast co...|                    |2004|\n",
      "|                NULL|[Guzin Ulutas, Mu...|00701b05-684f-45f...|         0|[5626736c-e434-4e...|Improved Secret I...|international sym...|2011|\n",
      "|                NULL|[Pranay Chaudhuri...|00745041-3636-4d1...|         0|                NULL|A Self-Stabilizin...|parallel and dist...|2003|\n",
      "|                NULL|[Dominik Szajerma...|00964544-cbe2-4da...|         0|[3fcd7cdc-20e6-4e...|Fur Visualisation...|international con...|2014|\n",
      "|Recent achievemen...|[Ankita Brahmacha...|00a119c4-d367-460...|         0|[84d47128-58d0-41...|Identifying Psych...|                    |2013|\n",
      "|                NULL|[David Al-Dabass,...|00ba1eb4-d1aa-458...|         0|                NULL|Simulation of a v...|                    |1995|\n",
      "|Recently, Bridges...|[Alvaro L. Islas,...|00bcf2d5-1592-46b...|        50|                  []|Multisymplectic S...|international con...|2002|\n",
      "|Most applications...|[Patrick Cousot, ...|00c85316-bddf-4bc...|        50|[6e8a3ec3-9a99-4f...|Relational Abstra...|                    |1991|\n",
      "|Three speech trai...|[Minoru Shigenaga...|00ca027b-5174-40f...|         0|                NULL|Speech training s...|international joi...|1979|\n",
      "|                NULL|[Reiko Heckel, To...|00dc2bba-3237-4d4...|        50|                NULL|Software Evolutio...|Electronic Notes ...|2003|\n",
      "|This paper focuse...|[Efthymios Alepis...|00dd5ece-1339-4cb...|        50|[522bea13-bd45-49...|Knowledge Enginee...|joint conference ...|2008|\n",
      "|                NULL|[Milos Zelezný, P...|00e02aeb-b424-4ca...|         7|                NULL|Design of an audi...|conference of the...|2002|\n",
      "|                NULL|[Abdullah Alsubai...|00e3940b-201b-40b...|         6|[0293844d-7244-45...|A Platform for Di...|                    |2013|\n",
      "|                NULL|[Tien Ho-Phuoc, A...|00fd4f6f-c7a1-49a...|         3|                NULL|A COMPUTATIONAL S...|international con...|2009|\n",
      "+--------------------+--------------------+--------------------+----------+--------------------+--------------------+--------------------+----+\n",
      "only showing top 20 rows\n",
      "\n"
     ]
    }
   ],
   "source": [
    "papers_df.show()"
   ]
  },
  {
   "cell_type": "markdown",
   "id": "af3a6254-b384-456a-9f92-365651aa575a",
   "metadata": {},
   "source": [
    "## Preprocessing"
   ]
  },
  {
   "cell_type": "markdown",
   "id": "70043032-86b9-431b-8043-366e6ecc62be",
   "metadata": {},
   "source": [
    "### Required packages and UDFs"
   ]
  },
  {
   "cell_type": "code",
   "execution_count": 4,
   "id": "ef225f03-a517-4e63-9f59-cea33a9b1d9d",
   "metadata": {},
   "outputs": [
    {
     "name": "stdout",
     "output_type": "stream",
     "text": [
      "Requirement already satisfied: langdetect in /opt/conda/lib/python3.11/site-packages (1.0.9)\n",
      "Requirement already satisfied: six in /opt/conda/lib/python3.11/site-packages (from langdetect) (1.16.0)\n"
     ]
    }
   ],
   "source": [
    "!pip install langdetect"
   ]
  },
  {
   "cell_type": "code",
   "execution_count": 5,
   "id": "83015362-a6fc-444a-bc5c-5019959e649a",
   "metadata": {},
   "outputs": [
    {
     "name": "stdout",
     "output_type": "stream",
     "text": [
      "Requirement already satisfied: fast-langdetect in /opt/conda/lib/python3.11/site-packages (0.1.1)\n",
      "Requirement already satisfied: fasttext-wheel>=0.9.2 in /opt/conda/lib/python3.11/site-packages (from fast-langdetect) (0.9.2)\n",
      "Requirement already satisfied: requests>=2.31.0 in /opt/conda/lib/python3.11/site-packages (from fast-langdetect) (2.32.3)\n",
      "Requirement already satisfied: robust-downloader>=0.0.2 in /opt/conda/lib/python3.11/site-packages (from fast-langdetect) (0.0.2)\n",
      "Requirement already satisfied: numpy<2.0.0,>=1.26.4 in /opt/conda/lib/python3.11/site-packages (from fast-langdetect) (1.26.4)\n",
      "Requirement already satisfied: pybind11>=2.2 in /opt/conda/lib/python3.11/site-packages (from fasttext-wheel>=0.9.2->fast-langdetect) (2.12.0)\n",
      "Requirement already satisfied: setuptools>=0.7.0 in /opt/conda/lib/python3.11/site-packages (from fasttext-wheel>=0.9.2->fast-langdetect) (70.0.0)\n",
      "Requirement already satisfied: charset-normalizer<4,>=2 in /opt/conda/lib/python3.11/site-packages (from requests>=2.31.0->fast-langdetect) (3.3.2)\n",
      "Requirement already satisfied: idna<4,>=2.5 in /opt/conda/lib/python3.11/site-packages (from requests>=2.31.0->fast-langdetect) (3.7)\n",
      "Requirement already satisfied: urllib3<3,>=1.21.1 in /opt/conda/lib/python3.11/site-packages (from requests>=2.31.0->fast-langdetect) (2.2.1)\n",
      "Requirement already satisfied: certifi>=2017.4.17 in /opt/conda/lib/python3.11/site-packages (from requests>=2.31.0->fast-langdetect) (2024.2.2)\n",
      "Requirement already satisfied: tqdm in /opt/conda/lib/python3.11/site-packages (from robust-downloader>=0.0.2->fast-langdetect) (4.66.4)\n",
      "Requirement already satisfied: colorlog in /opt/conda/lib/python3.11/site-packages (from robust-downloader>=0.0.2->fast-langdetect) (6.8.2)\n"
     ]
    }
   ],
   "source": [
    "!pip install fast-langdetect"
   ]
  },
  {
   "cell_type": "code",
   "execution_count": 6,
   "id": "dbff3da5-a400-476c-85bf-021a4da98483",
   "metadata": {},
   "outputs": [
    {
     "name": "stdout",
     "output_type": "stream",
     "text": [
      "True\n"
     ]
    }
   ],
   "source": [
    "# If you're running the language detection for the first time, try running this if the dataframe is filtered to empty\n",
    "# On first time run it might need to download a small language file that the udf might not trigger\n",
    "from fast_langdetect import detect_langs\n",
    "\n",
    "print(detect_langs(\"Hello, world!\") == 'EN')"
   ]
  },
  {
   "cell_type": "code",
   "execution_count": 7,
   "id": "ef45372e-05af-436d-b0a5-0b4685498d63",
   "metadata": {},
   "outputs": [],
   "source": [
    "from pyspark.sql.functions import col, udf, lower, regexp_replace, split, coalesce, array\n",
    "from pyspark.sql.types import ArrayType, StringType, BooleanType\n",
    "from pyspark.ml.feature import StopWordsRemover\n",
    "from langdetect import detect, LangDetectException\n",
    "from fast_langdetect import detect_langs\n",
    "\n",
    "custom_stop_words = ['doi', 'preprint', 'copyright', 'peer', 'reviewed', 'org', 'https', 'et', \n",
    "                     'al', 'author', 'figure','rights', 'reserved', 'permission', 'used', 'using', \n",
    "                     'biorxiv', 'medrxiv', 'license', 'fig', 'fig.', 'al.', 'Elsevier', 'PMC', 'CZI', 'www']\n",
    "\n",
    "\n",
    "def remove_punctuation(text):\n",
    "    return regexp_replace(text, r'[!()\\[\\]{};:\"\\,<>./?@#$%^&*_~]', '')\n",
    "\n",
    "# Language detection (EN)\n",
    "def detect_language(text):\n",
    "    result = False\n",
    "    try:\n",
    "        split_text = text.split(\" \")\n",
    "        if len(split_text) < 9:\n",
    "            result = detect(text) == 'en'\n",
    "        else:\n",
    "            result = \" \".join(split_text[:9]) == 'en'\n",
    "    except LangDetectException:\n",
    "        result = False\n",
    "    return result\n",
    "\n",
    "detect_language_udf = udf(detect_language, BooleanType())\n",
    "\n",
    "# ASCII detection - unused experiment but left it here for reference\n",
    "def detect_ascii(text):\n",
    "    return text.isascii()\n",
    "\n",
    "detect_ascii_udf = udf(detect_ascii, BooleanType())\n",
    "\n",
    "# Fast language detection (EN)\n",
    "def fast_detect_language(text):\n",
    "    result = False\n",
    "    try:\n",
    "        result = detect_langs(text) == 'EN'\n",
    "    except Exception:\n",
    "        result = False\n",
    "    return result\n",
    "\n",
    "fast_detect_language_udf = udf(fast_detect_language, BooleanType())"
   ]
  },
  {
   "cell_type": "markdown",
   "id": "f2b2248c-c4db-479d-b09e-7e8d50c7903c",
   "metadata": {},
   "source": [
    "### Set up the required filtering and preprocessing steps"
   ]
  },
  {
   "cell_type": "code",
   "execution_count": 8,
   "id": "06241d25-9531-464c-baf3-60ef731ca643",
   "metadata": {},
   "outputs": [],
   "source": [
    "papers_cleaned_df = papers_df.filter(col(\"abstract\").isNotNull() & (col(\"abstract\").rlike(r'\\w')))\n",
    "#papers_cleaned_df = papers_cleaned_df.limit(100) # Useful for testing, takes only the first n entries\n",
    "#papers_cleaned_df = papers_cleaned_df.filter(detect_ascii_udf(col(\"title\"))) # \"Language detection\" based on if the title contains any non-ASCII characters (slow and kind of wrong)\n",
    "#papers_cleaned_df = papers_cleaned_df.filter(detect_language_udf(col(\"title\"))) # Language detection using the base language library (very slow)\n",
    "papers_cleaned_df = papers_cleaned_df.filter(fast_detect_language_udf(col(\"title\")))\n",
    "papers_cleaned_df = papers_cleaned_df.withColumn(\"abstract\", remove_punctuation(col(\"abstract\")))\n",
    "papers_cleaned_df = papers_cleaned_df.withColumn(\"abstract\", lower(col(\"abstract\")))\n",
    "papers_cleaned_df = papers_cleaned_df.withColumn(\"abstract_words\", split(col(\"abstract\"), \" \"))\n",
    "\n",
    "papers_cleaned_df = papers_cleaned_df.withColumn(\"references\", coalesce(\"references\", array()))\n",
    "\n",
    "# Preprocess title column\n",
    "papers_cleaned_df = papers_cleaned_df.filter(col(\"title\").isNotNull() & (col(\"title\").rlike(r'\\w')))\n",
    "papers_cleaned_df = papers_cleaned_df.withColumn(\"title\", remove_punctuation(col(\"title\")))\n",
    "papers_cleaned_df = papers_cleaned_df.withColumn(\"title\", lower(col(\"title\")))\n",
    "papers_cleaned_df = papers_cleaned_df.withColumn(\"title_words\", split(col(\"title\"), \" \"))\n",
    "\n",
    "remover = StopWordsRemover(inputCol=\"title_words\", outputCol=\"filtered_title_words\")\n",
    "papers_cleaned_df = remover.transform(papers_cleaned_df)\n",
    "\n",
    "remover = StopWordsRemover(inputCol=\"abstract_words\", outputCol=\"filtered_abstract_words\")\n",
    "papers_cleaned_df = remover.transform(papers_cleaned_df)\n",
    "\n",
    "def remove_custom_stop_words(words, custom_stop_words):\n",
    "    if words is None:\n",
    "        return None\n",
    "    return [word for word in words if word not in custom_stop_words]\n",
    "\n",
    "remove_custom_stop_words_udf = udf(lambda words: remove_custom_stop_words(words, custom_stop_words), ArrayType(StringType()))\n",
    "\n",
    "papers_cleaned_df = papers_cleaned_df.withColumn(\"final_filtered_abstract\", remove_custom_stop_words_udf(col(\"filtered_abstract_words\")))\n",
    "papers_cleaned_df = papers_cleaned_df.withColumn(\"final_filtered_title\", remove_custom_stop_words_udf(col(\"filtered_title_words\")))\n"
   ]
  },
  {
   "cell_type": "markdown",
   "id": "af405016-9837-4c7b-b70f-3a1dd15b1661",
   "metadata": {},
   "source": [
    "### Run the preprocessing steps"
   ]
  },
  {
   "cell_type": "code",
   "execution_count": 9,
   "id": "1d3f6e03-bfa6-4bdf-a450-658889929684",
   "metadata": {},
   "outputs": [
    {
     "name": "stdout",
     "output_type": "stream",
     "text": [
      "Number of resulting papers: 743421\n",
      "\n",
      "+--------------------+--------------------+--------------------+----------+--------------------+--------------------+--------------------+----+--------------------+--------------------+--------------------+-----------------------+-----------------------+--------------------+\n",
      "|            abstract|             authors|                  id|n_citation|          references|               title|               venue|year|      abstract_words|         title_words|filtered_title_words|filtered_abstract_words|final_filtered_abstract|final_filtered_title|\n",
      "+--------------------+--------------------+--------------------+----------+--------------------+--------------------+--------------------+----+--------------------+--------------------+--------------------+-----------------------+-----------------------+--------------------+\n",
      "|the purpose of th...|[Makoto Satoh, Ry...|00127ee2-cb05-48c...|         0|[51c7e02e-f5ed-43...|preliminary desig...|international con...|2013|[the, purpose, of...|[preliminary, des...|[preliminary, des...|   [purpose, study, ...|   [purpose, study, ...|[preliminary, des...|\n",
      "|this paper descri...|[Gareth Beale, Gr...|001c58d3-26ad-46b...|        50|[10482dd3-4642-41...|a methodology for...|visual analytics ...|2011|[this, paper, des...|[a, methodology, ...|[methodology, phy...|   [paper, describes...|   [paper, describes...|[methodology, phy...|\n",
      "|this article appl...|[Altaf Hossain, F...|001c8744-73c4-4b0...|        50|[2d84c0f2-e656-4c...|comparison of gar...|pattern recogniti...|2009|[this, article, a...|[comparison, of, ...|[comparison, garc...|   [article, applied...|   [article, applied...|[comparison, garc...|\n",
      "|recent achievemen...|[Ankita Brahmacha...|00a119c4-d367-460...|         0|[84d47128-58d0-41...|identifying psych...|                    |2013|[recent, achievem...|[identifying, psy...|[identifying, psy...|   [recent, achievem...|   [recent, achievem...|[identifying, psy...|\n",
      "|recently bridges ...|[Alvaro L. Islas,...|00bcf2d5-1592-46b...|        50|                  []|multisymplectic s...|international con...|2002|[recently, bridge...|[multisymplectic,...|[multisymplectic,...|   [recently, bridge...|   [recently, bridge...|[multisymplectic,...|\n",
      "|most applications...|[Patrick Cousot, ...|00c85316-bddf-4bc...|        50|[6e8a3ec3-9a99-4f...|relational abstra...|                    |1991|[most, applicatio...|[relational, abst...|[relational, abst...|   [applications, ab...|   [applications, ab...|[relational, abst...|\n",
      "|three speech trai...|[Minoru Shigenaga...|00ca027b-5174-40f...|         0|                  []|speech training s...|international joi...|1979|[three, speech, t...|[speech, training...|[speech, training...|   [three, speech, t...|   [three, speech, t...|[speech, training...|\n",
      "|this paper focuse...|[Efthymios Alepis...|00dd5ece-1339-4cb...|        50|[522bea13-bd45-49...|knowledge enginee...|joint conference ...|2008|[this, paper, foc...|[knowledge, engin...|[knowledge, engin...|   [paper, focuses, ...|   [paper, focuses, ...|[knowledge, engin...|\n",
      "|embedded systems ...|[Matias Madou, Bj...|01047814-b615-444...|        50|                  []|link-time compact...|european symposiu...|2004|[embedded, system...|[link-time, compa...|[link-time, compa...|   [embedded, system...|   [embedded, system...|[link-time, compa...|\n",
      "|xax is a browser ...|[John R. Douceur,...|010d4ce9-0279-416...|        50|[0abc9de7-e047-44...|leveraging legacy...|operating systems...|2008|[xax, is, a, brow...|[leveraging, lega...|[leveraging, lega...|   [xax, browser, pl...|   [xax, browser, pl...|[leveraging, lega...|\n",
      "|in recent years m...|[Hiroshi Furukawa...|010d9907-45ef-459...|         7|[b2f0e0d3-0071-40...|a pedestrian navi...|international con...|2013|[in, recent, year...|[a, pedestrian, n...|[pedestrian, navi...|   [recent, years, m...|   [recent, years, m...|[pedestrian, navi...|\n",
      "|previous language...|[Carmen Fernández...|012b88ae-a763-45d...|        50|[00515e82-3da6-49...|word pairs in lan...|                    |2004|[previous, langua...|[word, pairs, in,...|[word, pairs, lan...|   [previous, langua...|   [previous, langua...|[word, pairs, lan...|\n",
      "|spatial encryptio...|[Michel Abdalla, ...|016a9a21-e882-4cd...|        50|[3140c9ba-8d98-42...|leakage-resilient...|                    |2012|[spatial, encrypt...|[leakage-resilien...|[leakage-resilien...|   [spatial, encrypt...|   [spatial, encrypt...|[leakage-resilien...|\n",
      "|in system operati...|[Mark Burgess, Al...|01705f09-d395-4a0...|         8|[363278e2-6c9d-45...|on system rollbac...|The Journal of Lo...|2011|[in, system, oper...|[on, system, roll...|[system, rollback...|   [system, operatio...|   [system, operatio...|[system, rollback...|\n",
      "|business strategy...|[Constantinos Gia...|01b6f2ca-3903-419...|        12|[0ce446cf-4f4f-49...|model-driven stra...|                    |2012|[business, strate...|[model-driven, st...|[model-driven, st...|   [business, strate...|   [business, strate...|[model-driven, st...|\n",
      "|ftp mirror tracke...|[Alexei Novikov, ...|01ccb92f-46f1-400...|         0|                  []|ftp mirror tracke...|usenix large inst...|2000|[ftp, mirror, tra...|[ftp, mirror, tra...|[ftp, mirror, tra...|   [ftp, mirror, tra...|   [ftp, mirror, tra...|[ftp, mirror, tra...|\n",
      "|there are a numbe...|[Theresa Beauboue...|01edeac9-cd8b-46f...|         0|[09b666de-6279-48...|information syste...|                    |2014|[there, are, a, n...|[information, sys...|[information, sys...|   [number, alternat...|   [number, alternat...|[information, sys...|\n",
      "|breast cancer is ...|[Bartosz Krawczyk...|0265aea8-65f3-4f4...|        50|[16f0341b-538d-40...|breast cancer ide...|                    |2013|[breast, cancer, ...|[breast, cancer, ...|[breast, cancer, ...|   [breast, cancer, ...|   [breast, cancer, ...|[breast, cancer, ...|\n",
      "|the development o...|[J. Niblock, Jian...|028d37c8-b571-41b...|         0|[8fc06656-ed2a-46...|automated object ...|international con...|2008|[the, development...|[automated, objec...|[automated, objec...|   [development, aut...|   [development, aut...|[automated, objec...|\n",
      "|quality specified...|[Qiong Liu, You Y...|02a5e8a8-061e-4c1...|         3|[04f8d077-765a-41...|quality assessmen...|conference on mul...|2013|[quality, specifi...|[quality, assessm...|[quality, assessm...|   [quality, specifi...|   [quality, specifi...|[quality, assessm...|\n",
      "+--------------------+--------------------+--------------------+----------+--------------------+--------------------+--------------------+----+--------------------+--------------------+--------------------+-----------------------+-----------------------+--------------------+\n",
      "only showing top 20 rows\n",
      "\n",
      "\n",
      "The process took 51.595284938812256 seconds\n"
     ]
    }
   ],
   "source": [
    "import time\n",
    "\n",
    "start_ms = time.time_ns() / 1_000_000_000\n",
    "print(\"Number of resulting papers:\", papers_cleaned_df.count())\n",
    "\n",
    "print()\n",
    "papers_cleaned_df.show()\n",
    "print()\n",
    "\n",
    "end_ms = time.time_ns() / 1_000_000_000\n",
    "print(\"The process took\", (end_ms - start_ms), \"seconds\")"
   ]
  },
  {
   "cell_type": "markdown",
   "id": "a6ebe98b-8319-4175-82c4-93ad35fa2c3f",
   "metadata": {},
   "source": [
    "## Vectorization"
   ]
  },
  {
   "cell_type": "code",
   "execution_count": 10,
   "id": "c7da1058-f2b1-4520-a488-f1ca1faa6e0e",
   "metadata": {},
   "outputs": [],
   "source": [
    "from pyspark.ml.feature import Tokenizer, HashingTF, IDF\n",
    "from pyspark.sql.functions import when\n",
    "#NB! this takes a long time to calculate so don't run this often (run time of ~1 minute)\n",
    "\"\"\"hashing_tf = HashingTF(inputCol=\"final_filtered\", outputCol=\"raw_features\", numFeatures=1024)\n",
    "tf_df = hashing_tf.transform(papers_cleaned_df)\n",
    "\n",
    "idf = IDF(inputCol=\"raw_features\", outputCol=\"features\")\n",
    "idf_model = idf.fit(tf_df)\n",
    "tfidf_df = idf_model.transform(tf_df)\n",
    "tfidf_df = tfidf_df.filter(col(\"features\").isNotNull())\n",
    "\"\"\"\n",
    "# HashingTF and IDF for abstract and title\n",
    "hashingTF_abstract = HashingTF(inputCol=\"final_filtered_abstract\", outputCol=\"raw_abstract_features\", numFeatures=1024)\n",
    "hashingTF_title = HashingTF(inputCol=\"final_filtered_title\", outputCol=\"raw_title_features\", numFeatures=1024)\n",
    "\n",
    "idf_abstract = IDF(inputCol=\"raw_abstract_features\", outputCol=\"abstract_features\")\n",
    "idf_title = IDF(inputCol=\"raw_title_features\", outputCol=\"title_features\")\n"
   ]
  },
  {
   "cell_type": "code",
   "execution_count": 11,
   "id": "7852e1e0-dc7b-4eb5-8bc4-abcc58ce17bc",
   "metadata": {
    "scrolled": true
   },
   "outputs": [
    {
     "name": "stdout",
     "output_type": "stream",
     "text": [
      "+--------------------+--------------------+--------------------+----------+--------------------+--------------------+--------------------+----+--------------------+--------------------+--------------------+-----------------------+-----------------------+--------------------+---------------------+--------------------+--------------------+--------------------+--------------+--------------------+--------------------+--------------------+\n",
      "|            abstract|             authors|                  id|n_citation|          references|               title|               venue|year|      abstract_words|         title_words|filtered_title_words|filtered_abstract_words|final_filtered_abstract|final_filtered_title|raw_abstract_features|  raw_title_features|   abstract_features|      title_features|n_citation_vec|   scaled_n_citation|    authors_features|            features|\n",
      "+--------------------+--------------------+--------------------+----------+--------------------+--------------------+--------------------+----+--------------------+--------------------+--------------------+-----------------------+-----------------------+--------------------+---------------------+--------------------+--------------------+--------------------+--------------+--------------------+--------------------+--------------------+\n",
      "|the purpose of th...|[Makoto Satoh, Ry...|00127ee2-cb05-48c...|         0|[51c7e02e-f5ed-43...|preliminary desig...|international con...|2013|[the, purpose, of...|[preliminary, des...|[preliminary, des...|   [purpose, study, ...|   [purpose, study, ...|[preliminary, des...| (1024,[68,73,104,...|(1024,[144,230,48...|(1024,[68,73,104,...|(1024,[144,230,48...|         [0.0]|               [0.0]|(1024,[136,303,42...|(3073,[68,73,104,...|\n",
      "|this paper descri...|[Gareth Beale, Gr...|001c58d3-26ad-46b...|        50|[10482dd3-4642-41...|a methodology for...|visual analytics ...|2011|[this, paper, des...|[a, methodology, ...|[methodology, phy...|   [paper, describes...|   [paper, describes...|[methodology, phy...| (1024,[28,49,59,7...|(1024,[363,404,65...|(1024,[28,49,59,7...|(1024,[363,404,65...|        [50.0]|[0.34081559365534...|(1024,[213,806],[...|(3073,[28,49,59,7...|\n",
      "|this article appl...|[Altaf Hossain, F...|001c8744-73c4-4b0...|        50|[2d84c0f2-e656-4c...|comparison of gar...|pattern recogniti...|2009|[this, article, a...|[comparison, of, ...|[comparison, garc...|   [article, applied...|   [article, applied...|[comparison, garc...| (1024,[5,7,39,44,...|(1024,[155,181,36...|(1024,[5,7,39,44,...|(1024,[155,181,36...|        [50.0]|[0.34081559365534...|(1024,[31,86,667,...|(3073,[5,7,39,44,...|\n",
      "|recent achievemen...|[Ankita Brahmacha...|00a119c4-d367-460...|         0|[84d47128-58d0-41...|identifying psych...|                    |2013|[recent, achievem...|[identifying, psy...|[identifying, psy...|   [recent, achievem...|   [recent, achievem...|[identifying, psy...| (1024,[35,42,58,6...|(1024,[262,312,41...|(1024,[35,42,58,6...|(1024,[262,312,41...|         [0.0]|               [0.0]|(1024,[295,346,36...|(3073,[35,42,58,6...|\n",
      "|recently bridges ...|[Alvaro L. Islas,...|00bcf2d5-1592-46b...|        50|                  []|multisymplectic s...|international con...|2002|[recently, bridge...|[multisymplectic,...|[multisymplectic,...|   [recently, bridge...|   [recently, bridge...|[multisymplectic,...| (1024,[23,94,100,...|(1024,[94,354,390...|(1024,[23,94,100,...|(1024,[94,354,390...|        [50.0]|[0.34081559365534...|(1024,[284,810],[...|(3073,[23,94,100,...|\n",
      "|most applications...|[Patrick Cousot, ...|00c85316-bddf-4bc...|        50|[6e8a3ec3-9a99-4f...|relational abstra...|                    |1991|[most, applicatio...|[relational, abst...|[relational, abst...|   [applications, ab...|   [applications, ab...|[relational, abst...| (1024,[4,56,107,1...|(1024,[107,151,28...|(1024,[4,56,107,1...|(1024,[107,151,28...|        [50.0]|[0.34081559365534...|(1024,[88,649],[1...|(3073,[4,56,107,1...|\n",
      "|three speech trai...|[Minoru Shigenaga...|00ca027b-5174-40f...|         0|                  []|speech training s...|international joi...|1979|[three, speech, t...|[speech, training...|[speech, training...|   [three, speech, t...|   [three, speech, t...|[speech, training...| (1024,[6,7,39,56,...|(1024,[185,207,24...|(1024,[6,7,39,56,...|(1024,[185,207,24...|         [0.0]|               [0.0]|(1024,[6,438],[1....|(3073,[6,7,39,56,...|\n",
      "|this paper focuse...|[Efthymios Alepis...|00dd5ece-1339-4cb...|        50|[522bea13-bd45-49...|knowledge enginee...|joint conference ...|2008|[this, paper, foc...|[knowledge, engin...|[knowledge, engin...|   [paper, focuses, ...|   [paper, focuses, ...|[knowledge, engin...| (1024,[5,6,16,80,...|(1024,[229,261,32...|(1024,[5,6,16,80,...|(1024,[229,261,32...|        [50.0]|[0.34081559365534...|(1024,[374,431,97...|(3073,[5,6,16,80,...|\n",
      "|embedded systems ...|[Matias Madou, Bj...|01047814-b615-444...|        50|                  []|link-time compact...|european symposiu...|2004|[embedded, system...|[link-time, compa...|[link-time, compa...|   [embedded, system...|   [embedded, system...|[link-time, compa...| (1024,[31,38,67,8...|(1024,[6,107,464,...|(1024,[31,38,67,8...|(1024,[6,107,464,...|        [50.0]|[0.34081559365534...|(1024,[76,177,284...|(3073,[31,38,67,8...|\n",
      "|xax is a browser ...|[John R. Douceur,...|010d4ce9-0279-416...|        50|[0abc9de7-e047-44...|leveraging legacy...|operating systems...|2008|[xax, is, a, brow...|[leveraging, lega...|[leveraging, lega...|   [xax, browser, pl...|   [xax, browser, pl...|[leveraging, lega...| (1024,[11,16,30,3...|(1024,[87,100,182...|(1024,[11,16,30,3...|(1024,[87,100,182...|        [50.0]|[0.34081559365534...|(1024,[316,462,53...|(3073,[11,16,30,3...|\n",
      "|in recent years m...|[Hiroshi Furukawa...|010d9907-45ef-459...|         7|[b2f0e0d3-0071-40...|a pedestrian navi...|international con...|2013|[in, recent, year...|[a, pedestrian, n...|[pedestrian, navi...|   [recent, years, m...|   [recent, years, m...|[pedestrian, navi...| (1024,[84,92,109,...|(1024,[159,430,51...|(1024,[84,92,109,...|(1024,[159,430,51...|         [7.0]|[0.04771418311174...|(1024,[409,992],[...|(3073,[84,92,109,...|\n",
      "|previous language...|[Carmen Fernández...|012b88ae-a763-45d...|        50|[00515e82-3da6-49...|word pairs in lan...|                    |2004|[previous, langua...|[word, pairs, in,...|[word, pairs, lan...|   [previous, langua...|   [previous, langua...|[word, pairs, lan...| (1024,[36,43,56,7...|(1024,[73,100,479...|(1024,[36,43,56,7...|(1024,[73,100,479...|        [50.0]|[0.34081559365534...|(1024,[599,649,65...|(3073,[36,43,56,7...|\n",
      "|spatial encryptio...|[Michel Abdalla, ...|016a9a21-e882-4cd...|        50|[3140c9ba-8d98-42...|leakage-resilient...|                    |2012|[spatial, encrypt...|[leakage-resilien...|[leakage-resilien...|   [spatial, encrypt...|   [spatial, encrypt...|[leakage-resilien...| (1024,[29,31,39,4...|(1024,[350,466,60...|(1024,[29,31,39,4...|(1024,[350,466,60...|        [50.0]|[0.34081559365534...|(1024,[197,819],[...|(3073,[29,31,39,4...|\n",
      "|in system operati...|[Mark Burgess, Al...|01705f09-d395-4a0...|         8|[363278e2-6c9d-45...|on system rollbac...|The Journal of Lo...|2011|[in, system, oper...|[on, system, roll...|[system, rollback...|   [system, operatio...|   [system, operatio...|[system, rollback...| (1024,[11,12,15,3...|(1024,[92,99,145,...|(1024,[11,12,15,3...|(1024,[92,99,145,...|         [8.0]|[0.05453049498485...|(1024,[827,1018],...|(3073,[11,12,15,3...|\n",
      "|business strategy...|[Constantinos Gia...|01b6f2ca-3903-419...|        12|[0ce446cf-4f4f-49...|model-driven stra...|                    |2012|[business, strate...|[model-driven, st...|[model-driven, st...|   [business, strate...|   [business, strate...|[model-driven, st...| (1024,[46,76,103,...|(1024,[46,151,282...|(1024,[46,76,103,...|(1024,[46,151,282...|        [12.0]|[0.08179574247728...|(1024,[166,706,73...|(3073,[46,76,103,...|\n",
      "|ftp mirror tracke...|[Alexei Novikov, ...|01ccb92f-46f1-400...|         0|                  []|ftp mirror tracke...|usenix large inst...|2000|[ftp, mirror, tra...|[ftp, mirror, tra...|[ftp, mirror, tra...|   [ftp, mirror, tra...|   [ftp, mirror, tra...|[ftp, mirror, tra...| (1024,[56,57,58,7...|(1024,[187,282,56...|(1024,[56,57,58,7...|(1024,[187,282,56...|         [0.0]|               [0.0]|(1024,[776,804],[...|(3073,[56,57,58,7...|\n",
      "|there are a numbe...|[Theresa Beauboue...|01edeac9-cd8b-46f...|         0|[09b666de-6279-48...|information syste...|                    |2014|[there, are, a, n...|[information, sys...|[information, sys...|   [number, alternat...|   [number, alternat...|[information, sys...| (1024,[55,58,71,1...|(1024,[121,514,55...|(1024,[55,58,71,1...|(1024,[121,514,55...|         [0.0]|               [0.0]|(1024,[121,270],[...|(3073,[55,58,71,1...|\n",
      "|breast cancer is ...|[Bartosz Krawczyk...|0265aea8-65f3-4f4...|        50|[16f0341b-538d-40...|breast cancer ide...|                    |2013|[breast, cancer, ...|[breast, cancer, ...|[breast, cancer, ...|   [breast, cancer, ...|   [breast, cancer, ...|[breast, cancer, ...| (1024,[10,17,20,3...|(1024,[10,148,215...|(1024,[10,17,20,3...|(1024,[10,148,215...|        [50.0]|[0.34081559365534...|(1024,[336,587,96...|(3073,[10,17,20,3...|\n",
      "|the development o...|[J. Niblock, Jian...|028d37c8-b571-41b...|         0|[8fc06656-ed2a-46...|automated object ...|international con...|2008|[the, development...|[automated, objec...|[automated, objec...|   [development, aut...|   [development, aut...|[automated, objec...| (1024,[24,36,44,9...|(1024,[251,277,40...|(1024,[24,36,44,9...|(1024,[251,277,40...|         [0.0]|               [0.0]|(1024,[214,376,42...|(3073,[24,36,44,9...|\n",
      "|quality specified...|[Qiong Liu, You Y...|02a5e8a8-061e-4c1...|         3|[04f8d077-765a-41...|quality assessmen...|conference on mul...|2013|[quality, specifi...|[quality, assessm...|[quality, assessm...|   [quality, specifi...|   [quality, specifi...|[quality, assessm...| (1024,[67,123,132...|(1024,[277,401,64...|(1024,[67,123,132...|(1024,[277,401,64...|         [3.0]|[0.02044893561932...|(1024,[239,686,74...|(3073,[67,123,132...|\n",
      "+--------------------+--------------------+--------------------+----------+--------------------+--------------------+--------------------+----+--------------------+--------------------+--------------------+-----------------------+-----------------------+--------------------+---------------------+--------------------+--------------------+--------------------+--------------+--------------------+--------------------+--------------------+\n",
      "only showing top 20 rows\n",
      "\n"
     ]
    }
   ],
   "source": [
    "from pyspark.ml.feature import StandardScaler, VectorAssembler\n",
    "# Apply HashingTF and IDF\n",
    "featurized_df = hashingTF_abstract.transform(papers_cleaned_df)\n",
    "featurized_df = hashingTF_title.transform(featurized_df)\n",
    "\n",
    "rescaled_df = idf_abstract.fit(featurized_df).transform(featurized_df)\n",
    "rescaled_df = idf_title.fit(rescaled_df).transform(rescaled_df)\n",
    "\n",
    "# Normalize n_citation\n",
    "assembler = VectorAssembler(inputCols=[\"n_citation\"], outputCol=\"n_citation_vec\")\n",
    "rescaled_df = assembler.transform(rescaled_df)\n",
    "\n",
    "scaler = StandardScaler(inputCol=\"n_citation_vec\", outputCol=\"scaled_n_citation\")\n",
    "rescaled_df = scaler.fit(rescaled_df).transform(rescaled_df)\n",
    "\n",
    "# HashingTF for authors\n",
    "hashingTF_authors = HashingTF(inputCol=\"authors\", outputCol=\"authors_features\", numFeatures=1024)\n",
    "rescaled_df = hashingTF_authors.transform(rescaled_df)\n",
    "\n",
    "# Combine all features\n",
    "assembler = VectorAssembler(inputCols=[\"abstract_features\", \"title_features\", \"scaled_n_citation\", \"authors_features\"], outputCol=\"features\")\n",
    "final_df = assembler.transform(rescaled_df)\n"
   ]
  },
  {
   "cell_type": "code",
   "execution_count": 16,
   "id": "1b1a884e-9fdd-4a41-b6dd-7c4488ea6f4c",
   "metadata": {},
   "outputs": [
    {
     "name": "stdout",
     "output_type": "stream",
     "text": [
      "\n"
     ]
    },
    {
     "name": "stderr",
     "output_type": "stream",
     "text": [
      "ERROR:root:Exception while sending command.\n",
      "Traceback (most recent call last):\n",
      "  File \"/usr/local/spark/python/lib/py4j-0.10.9.7-src.zip/py4j/clientserver.py\", line 516, in send_command\n",
      "    raise Py4JNetworkError(\"Answer from Java side is empty\")\n",
      "py4j.protocol.Py4JNetworkError: Answer from Java side is empty\n",
      "\n",
      "During handling of the above exception, another exception occurred:\n",
      "\n",
      "Traceback (most recent call last):\n",
      "  File \"/usr/local/spark/python/lib/py4j-0.10.9.7-src.zip/py4j/java_gateway.py\", line 1038, in send_command\n",
      "    response = connection.send_command(command)\n",
      "               ^^^^^^^^^^^^^^^^^^^^^^^^^^^^^^^^\n",
      "  File \"/usr/local/spark/python/lib/py4j-0.10.9.7-src.zip/py4j/clientserver.py\", line 539, in send_command\n",
      "    raise Py4JNetworkError(\n",
      "py4j.protocol.Py4JNetworkError: Error while sending or receiving\n"
     ]
    },
    {
     "ename": "ConnectionRefusedError",
     "evalue": "[Errno 111] Connection refused",
     "output_type": "error",
     "traceback": [
      "\u001b[0;31m---------------------------------------------------------------------------\u001b[0m",
      "\u001b[0;31mConnectionRefusedError\u001b[0m                    Traceback (most recent call last)",
      "Cell \u001b[0;32mIn[16], line 4\u001b[0m\n\u001b[1;32m      1\u001b[0m start_ms \u001b[38;5;241m=\u001b[39m time\u001b[38;5;241m.\u001b[39mtime_ns() \u001b[38;5;241m/\u001b[39m \u001b[38;5;241m1_000_000_000\u001b[39m\n\u001b[1;32m      3\u001b[0m \u001b[38;5;28mprint\u001b[39m()\n\u001b[0;32m----> 4\u001b[0m \u001b[43mfinal_df\u001b[49m\u001b[38;5;241;43m.\u001b[39;49m\u001b[43mshow\u001b[49m\u001b[43m(\u001b[49m\u001b[43m)\u001b[49m\n\u001b[1;32m      5\u001b[0m \u001b[38;5;28mprint\u001b[39m()\n\u001b[1;32m      7\u001b[0m end_ms \u001b[38;5;241m=\u001b[39m time\u001b[38;5;241m.\u001b[39mtime_ns() \u001b[38;5;241m/\u001b[39m \u001b[38;5;241m1_000_000_000\u001b[39m\n",
      "File \u001b[0;32m/usr/local/spark/python/pyspark/sql/dataframe.py:945\u001b[0m, in \u001b[0;36mDataFrame.show\u001b[0;34m(self, n, truncate, vertical)\u001b[0m\n\u001b[1;32m    885\u001b[0m \u001b[38;5;28;01mdef\u001b[39;00m \u001b[38;5;21mshow\u001b[39m(\u001b[38;5;28mself\u001b[39m, n: \u001b[38;5;28mint\u001b[39m \u001b[38;5;241m=\u001b[39m \u001b[38;5;241m20\u001b[39m, truncate: Union[\u001b[38;5;28mbool\u001b[39m, \u001b[38;5;28mint\u001b[39m] \u001b[38;5;241m=\u001b[39m \u001b[38;5;28;01mTrue\u001b[39;00m, vertical: \u001b[38;5;28mbool\u001b[39m \u001b[38;5;241m=\u001b[39m \u001b[38;5;28;01mFalse\u001b[39;00m) \u001b[38;5;241m-\u001b[39m\u001b[38;5;241m>\u001b[39m \u001b[38;5;28;01mNone\u001b[39;00m:\n\u001b[1;32m    886\u001b[0m \u001b[38;5;250m    \u001b[39m\u001b[38;5;124;03m\"\"\"Prints the first ``n`` rows to the console.\u001b[39;00m\n\u001b[1;32m    887\u001b[0m \n\u001b[1;32m    888\u001b[0m \u001b[38;5;124;03m    .. versionadded:: 1.3.0\u001b[39;00m\n\u001b[0;32m   (...)\u001b[0m\n\u001b[1;32m    943\u001b[0m \u001b[38;5;124;03m    name | Bob\u001b[39;00m\n\u001b[1;32m    944\u001b[0m \u001b[38;5;124;03m    \"\"\"\u001b[39;00m\n\u001b[0;32m--> 945\u001b[0m     \u001b[38;5;28mprint\u001b[39m(\u001b[38;5;28;43mself\u001b[39;49m\u001b[38;5;241;43m.\u001b[39;49m\u001b[43m_show_string\u001b[49m\u001b[43m(\u001b[49m\u001b[43mn\u001b[49m\u001b[43m,\u001b[49m\u001b[43m \u001b[49m\u001b[43mtruncate\u001b[49m\u001b[43m,\u001b[49m\u001b[43m \u001b[49m\u001b[43mvertical\u001b[49m\u001b[43m)\u001b[49m)\n",
      "File \u001b[0;32m/usr/local/spark/python/pyspark/sql/dataframe.py:963\u001b[0m, in \u001b[0;36mDataFrame._show_string\u001b[0;34m(self, n, truncate, vertical)\u001b[0m\n\u001b[1;32m    957\u001b[0m     \u001b[38;5;28;01mraise\u001b[39;00m PySparkTypeError(\n\u001b[1;32m    958\u001b[0m         error_class\u001b[38;5;241m=\u001b[39m\u001b[38;5;124m\"\u001b[39m\u001b[38;5;124mNOT_BOOL\u001b[39m\u001b[38;5;124m\"\u001b[39m,\n\u001b[1;32m    959\u001b[0m         message_parameters\u001b[38;5;241m=\u001b[39m{\u001b[38;5;124m\"\u001b[39m\u001b[38;5;124marg_name\u001b[39m\u001b[38;5;124m\"\u001b[39m: \u001b[38;5;124m\"\u001b[39m\u001b[38;5;124mvertical\u001b[39m\u001b[38;5;124m\"\u001b[39m, \u001b[38;5;124m\"\u001b[39m\u001b[38;5;124marg_type\u001b[39m\u001b[38;5;124m\"\u001b[39m: \u001b[38;5;28mtype\u001b[39m(vertical)\u001b[38;5;241m.\u001b[39m\u001b[38;5;18m__name__\u001b[39m},\n\u001b[1;32m    960\u001b[0m     )\n\u001b[1;32m    962\u001b[0m \u001b[38;5;28;01mif\u001b[39;00m \u001b[38;5;28misinstance\u001b[39m(truncate, \u001b[38;5;28mbool\u001b[39m) \u001b[38;5;129;01mand\u001b[39;00m truncate:\n\u001b[0;32m--> 963\u001b[0m     \u001b[38;5;28;01mreturn\u001b[39;00m \u001b[38;5;28;43mself\u001b[39;49m\u001b[38;5;241;43m.\u001b[39;49m\u001b[43m_jdf\u001b[49m\u001b[38;5;241;43m.\u001b[39;49m\u001b[43mshowString\u001b[49m\u001b[43m(\u001b[49m\u001b[43mn\u001b[49m\u001b[43m,\u001b[49m\u001b[43m \u001b[49m\u001b[38;5;241;43m20\u001b[39;49m\u001b[43m,\u001b[49m\u001b[43m \u001b[49m\u001b[43mvertical\u001b[49m\u001b[43m)\u001b[49m\n\u001b[1;32m    964\u001b[0m \u001b[38;5;28;01melse\u001b[39;00m:\n\u001b[1;32m    965\u001b[0m     \u001b[38;5;28;01mtry\u001b[39;00m:\n",
      "File \u001b[0;32m/usr/local/spark/python/lib/py4j-0.10.9.7-src.zip/py4j/java_gateway.py:1321\u001b[0m, in \u001b[0;36mJavaMember.__call__\u001b[0;34m(self, *args)\u001b[0m\n\u001b[1;32m   1314\u001b[0m args_command, temp_args \u001b[38;5;241m=\u001b[39m \u001b[38;5;28mself\u001b[39m\u001b[38;5;241m.\u001b[39m_build_args(\u001b[38;5;241m*\u001b[39margs)\n\u001b[1;32m   1316\u001b[0m command \u001b[38;5;241m=\u001b[39m proto\u001b[38;5;241m.\u001b[39mCALL_COMMAND_NAME \u001b[38;5;241m+\u001b[39m\\\n\u001b[1;32m   1317\u001b[0m     \u001b[38;5;28mself\u001b[39m\u001b[38;5;241m.\u001b[39mcommand_header \u001b[38;5;241m+\u001b[39m\\\n\u001b[1;32m   1318\u001b[0m     args_command \u001b[38;5;241m+\u001b[39m\\\n\u001b[1;32m   1319\u001b[0m     proto\u001b[38;5;241m.\u001b[39mEND_COMMAND_PART\n\u001b[0;32m-> 1321\u001b[0m answer \u001b[38;5;241m=\u001b[39m \u001b[38;5;28;43mself\u001b[39;49m\u001b[38;5;241;43m.\u001b[39;49m\u001b[43mgateway_client\u001b[49m\u001b[38;5;241;43m.\u001b[39;49m\u001b[43msend_command\u001b[49m\u001b[43m(\u001b[49m\u001b[43mcommand\u001b[49m\u001b[43m)\u001b[49m\n\u001b[1;32m   1322\u001b[0m return_value \u001b[38;5;241m=\u001b[39m get_return_value(\n\u001b[1;32m   1323\u001b[0m     answer, \u001b[38;5;28mself\u001b[39m\u001b[38;5;241m.\u001b[39mgateway_client, \u001b[38;5;28mself\u001b[39m\u001b[38;5;241m.\u001b[39mtarget_id, \u001b[38;5;28mself\u001b[39m\u001b[38;5;241m.\u001b[39mname)\n\u001b[1;32m   1325\u001b[0m \u001b[38;5;28;01mfor\u001b[39;00m temp_arg \u001b[38;5;129;01min\u001b[39;00m temp_args:\n",
      "File \u001b[0;32m/usr/local/spark/python/lib/py4j-0.10.9.7-src.zip/py4j/java_gateway.py:1036\u001b[0m, in \u001b[0;36mGatewayClient.send_command\u001b[0;34m(self, command, retry, binary)\u001b[0m\n\u001b[1;32m   1015\u001b[0m \u001b[38;5;28;01mdef\u001b[39;00m \u001b[38;5;21msend_command\u001b[39m(\u001b[38;5;28mself\u001b[39m, command, retry\u001b[38;5;241m=\u001b[39m\u001b[38;5;28;01mTrue\u001b[39;00m, binary\u001b[38;5;241m=\u001b[39m\u001b[38;5;28;01mFalse\u001b[39;00m):\n\u001b[1;32m   1016\u001b[0m \u001b[38;5;250m    \u001b[39m\u001b[38;5;124;03m\"\"\"Sends a command to the JVM. This method is not intended to be\u001b[39;00m\n\u001b[1;32m   1017\u001b[0m \u001b[38;5;124;03m       called directly by Py4J users. It is usually called by\u001b[39;00m\n\u001b[1;32m   1018\u001b[0m \u001b[38;5;124;03m       :class:`JavaMember` instances.\u001b[39;00m\n\u001b[0;32m   (...)\u001b[0m\n\u001b[1;32m   1034\u001b[0m \u001b[38;5;124;03m     if `binary` is `True`.\u001b[39;00m\n\u001b[1;32m   1035\u001b[0m \u001b[38;5;124;03m    \"\"\"\u001b[39;00m\n\u001b[0;32m-> 1036\u001b[0m     connection \u001b[38;5;241m=\u001b[39m \u001b[38;5;28;43mself\u001b[39;49m\u001b[38;5;241;43m.\u001b[39;49m\u001b[43m_get_connection\u001b[49m\u001b[43m(\u001b[49m\u001b[43m)\u001b[49m\n\u001b[1;32m   1037\u001b[0m     \u001b[38;5;28;01mtry\u001b[39;00m:\n\u001b[1;32m   1038\u001b[0m         response \u001b[38;5;241m=\u001b[39m connection\u001b[38;5;241m.\u001b[39msend_command(command)\n",
      "File \u001b[0;32m/usr/local/spark/python/lib/py4j-0.10.9.7-src.zip/py4j/clientserver.py:284\u001b[0m, in \u001b[0;36mJavaClient._get_connection\u001b[0;34m(self)\u001b[0m\n\u001b[1;32m    281\u001b[0m     \u001b[38;5;28;01mpass\u001b[39;00m\n\u001b[1;32m    283\u001b[0m \u001b[38;5;28;01mif\u001b[39;00m connection \u001b[38;5;129;01mis\u001b[39;00m \u001b[38;5;28;01mNone\u001b[39;00m \u001b[38;5;129;01mor\u001b[39;00m connection\u001b[38;5;241m.\u001b[39msocket \u001b[38;5;129;01mis\u001b[39;00m \u001b[38;5;28;01mNone\u001b[39;00m:\n\u001b[0;32m--> 284\u001b[0m     connection \u001b[38;5;241m=\u001b[39m \u001b[38;5;28;43mself\u001b[39;49m\u001b[38;5;241;43m.\u001b[39;49m\u001b[43m_create_new_connection\u001b[49m\u001b[43m(\u001b[49m\u001b[43m)\u001b[49m\n\u001b[1;32m    285\u001b[0m \u001b[38;5;28;01mreturn\u001b[39;00m connection\n",
      "File \u001b[0;32m/usr/local/spark/python/lib/py4j-0.10.9.7-src.zip/py4j/clientserver.py:291\u001b[0m, in \u001b[0;36mJavaClient._create_new_connection\u001b[0;34m(self)\u001b[0m\n\u001b[1;32m    287\u001b[0m \u001b[38;5;28;01mdef\u001b[39;00m \u001b[38;5;21m_create_new_connection\u001b[39m(\u001b[38;5;28mself\u001b[39m):\n\u001b[1;32m    288\u001b[0m     connection \u001b[38;5;241m=\u001b[39m ClientServerConnection(\n\u001b[1;32m    289\u001b[0m         \u001b[38;5;28mself\u001b[39m\u001b[38;5;241m.\u001b[39mjava_parameters, \u001b[38;5;28mself\u001b[39m\u001b[38;5;241m.\u001b[39mpython_parameters,\n\u001b[1;32m    290\u001b[0m         \u001b[38;5;28mself\u001b[39m\u001b[38;5;241m.\u001b[39mgateway_property, \u001b[38;5;28mself\u001b[39m)\n\u001b[0;32m--> 291\u001b[0m     \u001b[43mconnection\u001b[49m\u001b[38;5;241;43m.\u001b[39;49m\u001b[43mconnect_to_java_server\u001b[49m\u001b[43m(\u001b[49m\u001b[43m)\u001b[49m\n\u001b[1;32m    292\u001b[0m     \u001b[38;5;28mself\u001b[39m\u001b[38;5;241m.\u001b[39mset_thread_connection(connection)\n\u001b[1;32m    293\u001b[0m     \u001b[38;5;28;01mreturn\u001b[39;00m connection\n",
      "File \u001b[0;32m/usr/local/spark/python/lib/py4j-0.10.9.7-src.zip/py4j/clientserver.py:438\u001b[0m, in \u001b[0;36mClientServerConnection.connect_to_java_server\u001b[0;34m(self)\u001b[0m\n\u001b[1;32m    435\u001b[0m \u001b[38;5;28;01mif\u001b[39;00m \u001b[38;5;28mself\u001b[39m\u001b[38;5;241m.\u001b[39mssl_context:\n\u001b[1;32m    436\u001b[0m     \u001b[38;5;28mself\u001b[39m\u001b[38;5;241m.\u001b[39msocket \u001b[38;5;241m=\u001b[39m \u001b[38;5;28mself\u001b[39m\u001b[38;5;241m.\u001b[39mssl_context\u001b[38;5;241m.\u001b[39mwrap_socket(\n\u001b[1;32m    437\u001b[0m         \u001b[38;5;28mself\u001b[39m\u001b[38;5;241m.\u001b[39msocket, server_hostname\u001b[38;5;241m=\u001b[39m\u001b[38;5;28mself\u001b[39m\u001b[38;5;241m.\u001b[39mjava_address)\n\u001b[0;32m--> 438\u001b[0m \u001b[38;5;28;43mself\u001b[39;49m\u001b[38;5;241;43m.\u001b[39;49m\u001b[43msocket\u001b[49m\u001b[38;5;241;43m.\u001b[39;49m\u001b[43mconnect\u001b[49m\u001b[43m(\u001b[49m\u001b[43m(\u001b[49m\u001b[38;5;28;43mself\u001b[39;49m\u001b[38;5;241;43m.\u001b[39;49m\u001b[43mjava_address\u001b[49m\u001b[43m,\u001b[49m\u001b[43m \u001b[49m\u001b[38;5;28;43mself\u001b[39;49m\u001b[38;5;241;43m.\u001b[39;49m\u001b[43mjava_port\u001b[49m\u001b[43m)\u001b[49m\u001b[43m)\u001b[49m\n\u001b[1;32m    439\u001b[0m \u001b[38;5;28mself\u001b[39m\u001b[38;5;241m.\u001b[39mstream \u001b[38;5;241m=\u001b[39m \u001b[38;5;28mself\u001b[39m\u001b[38;5;241m.\u001b[39msocket\u001b[38;5;241m.\u001b[39mmakefile(\u001b[38;5;124m\"\u001b[39m\u001b[38;5;124mrb\u001b[39m\u001b[38;5;124m\"\u001b[39m)\n\u001b[1;32m    440\u001b[0m \u001b[38;5;28mself\u001b[39m\u001b[38;5;241m.\u001b[39mis_connected \u001b[38;5;241m=\u001b[39m \u001b[38;5;28;01mTrue\u001b[39;00m\n",
      "\u001b[0;31mConnectionRefusedError\u001b[0m: [Errno 111] Connection refused"
     ]
    }
   ],
   "source": [
    "start_ms = time.time_ns() / 1_000_000_000\n",
    "\n",
    "print()\n",
    "final_df.show()\n",
    "print()\n",
    "\n",
    "end_ms = time.time_ns() / 1_000_000_000\n",
    "print(\"The process took\", (end_ms - start_ms), \"seconds\")"
   ]
  },
  {
   "cell_type": "code",
   "execution_count": 12,
   "id": "fe15ae38-bca3-4a17-b085-38ee0461c089",
   "metadata": {},
   "outputs": [
    {
     "name": "stdout",
     "output_type": "stream",
     "text": [
      "+--------------------+--------------------+----------+--------------------+--------------------+----+-----------------------+--------------------+--------------------+\n",
      "|             authors|                  id|n_citation|          references|               venue|year|final_filtered_abstract|final_filtered_title|            features|\n",
      "+--------------------+--------------------+----------+--------------------+--------------------+----+-----------------------+--------------------+--------------------+\n",
      "|[Makoto Satoh, Ry...|00127ee2-cb05-48c...|         0|[51c7e02e-f5ed-43...|international con...|2013|   [purpose, study, ...|[preliminary, des...|(3073,[68,73,104,...|\n",
      "|[Gareth Beale, Gr...|001c58d3-26ad-46b...|        50|[10482dd3-4642-41...|visual analytics ...|2011|   [paper, describes...|[methodology, phy...|(3073,[28,49,59,7...|\n",
      "|[Altaf Hossain, F...|001c8744-73c4-4b0...|        50|[2d84c0f2-e656-4c...|pattern recogniti...|2009|   [article, applied...|[comparison, garc...|(3073,[5,7,39,44,...|\n",
      "|[Ankita Brahmacha...|00a119c4-d367-460...|         0|[84d47128-58d0-41...|                    |2013|   [recent, achievem...|[identifying, psy...|(3073,[35,42,58,6...|\n",
      "|[Alvaro L. Islas,...|00bcf2d5-1592-46b...|        50|                  []|international con...|2002|   [recently, bridge...|[multisymplectic,...|(3073,[23,94,100,...|\n",
      "|[Patrick Cousot, ...|00c85316-bddf-4bc...|        50|[6e8a3ec3-9a99-4f...|                    |1991|   [applications, ab...|[relational, abst...|(3073,[4,56,107,1...|\n",
      "|[Minoru Shigenaga...|00ca027b-5174-40f...|         0|                  []|international joi...|1979|   [three, speech, t...|[speech, training...|(3073,[6,7,39,56,...|\n",
      "|[Efthymios Alepis...|00dd5ece-1339-4cb...|        50|[522bea13-bd45-49...|joint conference ...|2008|   [paper, focuses, ...|[knowledge, engin...|(3073,[5,6,16,80,...|\n",
      "|[Matias Madou, Bj...|01047814-b615-444...|        50|                  []|european symposiu...|2004|   [embedded, system...|[link-time, compa...|(3073,[31,38,67,8...|\n",
      "|[John R. Douceur,...|010d4ce9-0279-416...|        50|[0abc9de7-e047-44...|operating systems...|2008|   [xax, browser, pl...|[leveraging, lega...|(3073,[11,16,30,3...|\n",
      "|[Hiroshi Furukawa...|010d9907-45ef-459...|         7|[b2f0e0d3-0071-40...|international con...|2013|   [recent, years, m...|[pedestrian, navi...|(3073,[84,92,109,...|\n",
      "|[Carmen Fernández...|012b88ae-a763-45d...|        50|[00515e82-3da6-49...|                    |2004|   [previous, langua...|[word, pairs, lan...|(3073,[36,43,56,7...|\n",
      "|[Michel Abdalla, ...|016a9a21-e882-4cd...|        50|[3140c9ba-8d98-42...|                    |2012|   [spatial, encrypt...|[leakage-resilien...|(3073,[29,31,39,4...|\n",
      "|[Mark Burgess, Al...|01705f09-d395-4a0...|         8|[363278e2-6c9d-45...|The Journal of Lo...|2011|   [system, operatio...|[system, rollback...|(3073,[11,12,15,3...|\n",
      "|[Constantinos Gia...|01b6f2ca-3903-419...|        12|[0ce446cf-4f4f-49...|                    |2012|   [business, strate...|[model-driven, st...|(3073,[46,76,103,...|\n",
      "|[Alexei Novikov, ...|01ccb92f-46f1-400...|         0|                  []|usenix large inst...|2000|   [ftp, mirror, tra...|[ftp, mirror, tra...|(3073,[56,57,58,7...|\n",
      "|[Theresa Beauboue...|01edeac9-cd8b-46f...|         0|[09b666de-6279-48...|                    |2014|   [number, alternat...|[information, sys...|(3073,[55,58,71,1...|\n",
      "|[Bartosz Krawczyk...|0265aea8-65f3-4f4...|        50|[16f0341b-538d-40...|                    |2013|   [breast, cancer, ...|[breast, cancer, ...|(3073,[10,17,20,3...|\n",
      "|[J. Niblock, Jian...|028d37c8-b571-41b...|         0|[8fc06656-ed2a-46...|international con...|2008|   [development, aut...|[automated, objec...|(3073,[24,36,44,9...|\n",
      "|[Qiong Liu, You Y...|02a5e8a8-061e-4c1...|         3|[04f8d077-765a-41...|conference on mul...|2013|   [quality, specifi...|[quality, assessm...|(3073,[67,123,132...|\n",
      "+--------------------+--------------------+----------+--------------------+--------------------+----+-----------------------+--------------------+--------------------+\n",
      "only showing top 20 rows\n",
      "\n"
     ]
    }
   ],
   "source": [
    "# Drop intermediary columns\n",
    "columns_to_drop = [\"abstract\", \"abstract_words\", \"title\", \"title_words\", \"filtered_title_words\",\n",
    "                   \"raw_abstract_features\", \"raw_title_features\", \"n_citation_vec\", \"authors_features\",\n",
    "                   \"abstract_features\", \"title_features\", \"scaled_n_citation\", \"filtered_abstract_words\"]\n",
    "\n",
    "final_dropped_df = final_df.drop(*columns_to_drop)\n",
    "\n",
    "final_dropped_df.show()"
   ]
  },
  {
   "cell_type": "markdown",
   "id": "c8f4fde4-9ba3-4356-95ee-4386adb6bd1e",
   "metadata": {},
   "source": [
    "## Clustering"
   ]
  },
  {
   "cell_type": "code",
   "execution_count": 14,
   "id": "8a101745-6a2b-4043-8fab-d0595bd4fdbc",
   "metadata": {},
   "outputs": [],
   "source": [
    "from pyspark.ml.feature import PCA\n",
    "\n",
    "# Select the first 1000 rows, change this how you see fit and how much your PC can handle\n",
    "limited_final_dropped_df = final_dropped_df.limit(1000)\n",
    "\n",
    "\n",
    "pca = PCA(k=128, inputCol=\"features\", outputCol=\"pca_features\")\n",
    "pca_model = pca.fit(limited_final_dropped_df)\n",
    "pca_df = pca_model.transform(limited_final_dropped_df)"
   ]
  },
  {
   "cell_type": "code",
   "execution_count": null,
   "id": "0722787d-e7b2-48cd-a59b-de8258644dd0",
   "metadata": {},
   "outputs": [
    {
     "name": "stdout",
     "output_type": "stream",
     "text": [
      "3\n"
     ]
    },
    {
     "name": "stderr",
     "output_type": "stream",
     "text": [
      "\n",
      "KeyboardInterrupt\n",
      "\n"
     ]
    }
   ],
   "source": [
    "from pyspark.ml.feature import PCA\n",
    "from pyspark.ml.clustering import KMeans\n",
    "from pyspark.ml.evaluation import ClusteringEvaluator\n",
    "from pyspark.ml.linalg import Vectors\n",
    "\n",
    "#extremely slow\n",
    "\n",
    "# Determine the optimal number of clusters using the silhouette score\n",
    "cost = []\n",
    "evaluator = ClusteringEvaluator()\n",
    "\n",
    "for k in range(3, 8):\n",
    "    print(k)\n",
    "    kmeans = KMeans(featuresCol='pca_features', k=k)\n",
    "    model = kmeans.fit(pca_df)\n",
    "    predictions = model.transform(pca_df)\n",
    "    silhouette = evaluator.evaluate(predictions)\n",
    "    cost.append((k, silhouette))\n",
    "    print(f\"With K={k}, the Silhouette score is {silhouette}\")\n",
    "\n",
    "# Choose the best K (you can automate this step)\n",
    "best_k = max(cost, key=lambda item: item[1])[0]\n",
    "print(f\"Best K found: {best_k}\")\n",
    "\n",
    "# Fit the final K-means model with the best K\n",
    "kmeans = KMeans(featuresCol='pca_features', k=best_k)\n",
    "model = kmeans.fit(pca_df)\n",
    "predictions = model.transform(pca_df)\n",
    "\n",
    "# Show the resulting clusters\n",
    "predictions.select(\"id\", \"prediction\").show()\n",
    "\n",
    "# If you want to see the cluster centers\n",
    "centers = model.clusterCenters()\n",
    "print(\"Cluster Centers: \")\n",
    "for center in centers:\n",
    "    print(center)\n"
   ]
  },
  {
   "cell_type": "code",
   "execution_count": null,
   "id": "2259e4ed-eb94-4d13-88b4-430c2e5cdc53",
   "metadata": {},
   "outputs": [],
   "source": []
  }
 ],
 "metadata": {
  "kernelspec": {
   "display_name": "Python 3 (ipykernel)",
   "language": "python",
   "name": "python3"
  },
  "language_info": {
   "codemirror_mode": {
    "name": "ipython",
    "version": 3
   },
   "file_extension": ".py",
   "mimetype": "text/x-python",
   "name": "python",
   "nbconvert_exporter": "python",
   "pygments_lexer": "ipython3",
   "version": "3.11.9"
  }
 },
 "nbformat": 4,
 "nbformat_minor": 5
}
