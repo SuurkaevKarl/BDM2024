{
 "cells": [
  {
   "cell_type": "markdown",
   "id": "41802a8b-7856-442c-b181-acd9630f04e8",
   "metadata": {},
   "source": [
    "# Pre-processing"
   ]
  },
  {
   "cell_type": "markdown",
   "id": "1c5c03d9-ccd2-497c-8185-0316713f154c",
   "metadata": {},
   "source": [
    "This section of the notebook takes the necessary steps for setting up Spark"
   ]
  },
  {
   "cell_type": "markdown",
   "id": "ee3bdfb7-ba5b-4c14-bd3d-0eb8e06077b3",
   "metadata": {},
   "source": [
    "## Setup for Spark"
   ]
  },
  {
   "cell_type": "code",
   "execution_count": 1,
   "id": "ba0e634e-c0ca-462b-88f9-46ab5156a637",
   "metadata": {},
   "outputs": [],
   "source": [
    "from pyspark.sql import SparkSession\n",
    "from pyspark.sql.types import StructType, StructField, StringType, DoubleType, ArrayType, LongType\n",
    "\n",
    "spark = SparkSession.builder \\\n",
    "    .appName(\"Read GeoJSON with PySpark\") \\\n",
    "    .getOrCreate()"
   ]
  },
  {
   "cell_type": "markdown",
   "id": "956936b0-c8d7-49cb-9f9a-466fd304881a",
   "metadata": {},
   "source": [
    "## Reading in the GeoJSON data"
   ]
  },
  {
   "cell_type": "code",
   "execution_count": 2,
   "id": "db9ef1dc-8ba2-41f7-8df9-b2ae904fd76d",
   "metadata": {},
   "outputs": [],
   "source": [
    "# Define the custom schema\n",
    "custom_schema = StructType([\n",
    "    StructField(\"type\", StringType(), nullable=True),\n",
    "    StructField(\"id\", LongType(), nullable=True),\n",
    "    StructField(\"properties\", StructType([\n",
    "        StructField(\"boroughCode\", LongType(), nullable=True),\n",
    "        StructField(\"borough\", StringType(), nullable=True),\n",
    "        StructField(\"@id\", StringType(), nullable=True)\n",
    "    ]), nullable=True),\n",
    "    StructField(\"geometry\", StructType([\n",
    "        StructField(\"type\", StringType(), nullable=True),\n",
    "        StructField(\"coordinates\", ArrayType(ArrayType(ArrayType(DoubleType()))), nullable=True)\n",
    "    ]), nullable=True)\n",
    "])\n",
    "\n",
    "# Read GeoJSON file with custom schema\n",
    "geojson_df = spark.read.schema(custom_schema).json(\"nyc-boroughs.geojson\")\n",
    "\n"
   ]
  },
  {
   "cell_type": "code",
   "execution_count": 3,
   "id": "3b52069b-e8dc-4dfd-a73e-48285807b177",
   "metadata": {},
   "outputs": [
    {
     "name": "stdout",
     "output_type": "stream",
     "text": [
      "root\n",
      " |-- type: string (nullable = true)\n",
      " |-- id: long (nullable = true)\n",
      " |-- properties: struct (nullable = true)\n",
      " |    |-- boroughCode: long (nullable = true)\n",
      " |    |-- borough: string (nullable = true)\n",
      " |    |-- @id: string (nullable = true)\n",
      " |-- geometry: struct (nullable = true)\n",
      " |    |-- type: string (nullable = true)\n",
      " |    |-- coordinates: array (nullable = true)\n",
      " |    |    |-- element: array (containsNull = true)\n",
      " |    |    |    |-- element: array (containsNull = true)\n",
      " |    |    |    |    |-- element: double (containsNull = true)\n",
      "\n",
      "+-------+----+--------------------+--------------------+\n",
      "|   type|  id|          properties|            geometry|\n",
      "+-------+----+--------------------+--------------------+\n",
      "|   NULL|NULL|                NULL|                NULL|\n",
      "|   NULL|NULL|                NULL|                NULL|\n",
      "|   NULL|NULL|                NULL|                NULL|\n",
      "|Feature|   0|{5, Staten Island...|{Polygon, [[[-74....|\n",
      "|   NULL|NULL|                NULL|                NULL|\n",
      "|Feature|   1|{5, Staten Island...|{Polygon, [[[-74....|\n",
      "|   NULL|NULL|                NULL|                NULL|\n",
      "|Feature|   2|{5, Staten Island...|{Polygon, [[[-74....|\n",
      "|   NULL|NULL|                NULL|                NULL|\n",
      "|Feature|   3|{5, Staten Island...|{Polygon, [[[-74....|\n",
      "|   NULL|NULL|                NULL|                NULL|\n",
      "|Feature|   4|{4, Queens, http:...|{Polygon, [[[-73....|\n",
      "|   NULL|NULL|                NULL|                NULL|\n",
      "|Feature|   5|{4, Queens, http:...|{Polygon, [[[-73....|\n",
      "|   NULL|NULL|                NULL|                NULL|\n",
      "|Feature|   6|{4, Queens, http:...|{Polygon, [[[-73....|\n",
      "|   NULL|NULL|                NULL|                NULL|\n",
      "|Feature|   7|{4, Queens, http:...|{Polygon, [[[-73....|\n",
      "|   NULL|NULL|                NULL|                NULL|\n",
      "|Feature|   8|{4, Queens, http:...|{Polygon, [[[-73....|\n",
      "+-------+----+--------------------+--------------------+\n",
      "only showing top 20 rows\n",
      "\n",
      "+-------+---+--------------------+--------------------+\n",
      "|   type| id|          properties|            geometry|\n",
      "+-------+---+--------------------+--------------------+\n",
      "|Feature|  0|{5, Staten Island...|{Polygon, [[[-74....|\n",
      "|Feature|  1|{5, Staten Island...|{Polygon, [[[-74....|\n",
      "|Feature|  2|{5, Staten Island...|{Polygon, [[[-74....|\n",
      "|Feature|  3|{5, Staten Island...|{Polygon, [[[-74....|\n",
      "|Feature|  4|{4, Queens, http:...|{Polygon, [[[-73....|\n",
      "|Feature|  5|{4, Queens, http:...|{Polygon, [[[-73....|\n",
      "|Feature|  6|{4, Queens, http:...|{Polygon, [[[-73....|\n",
      "|Feature|  7|{4, Queens, http:...|{Polygon, [[[-73....|\n",
      "|Feature|  8|{4, Queens, http:...|{Polygon, [[[-73....|\n",
      "|Feature|  9|{4, Queens, http:...|{Polygon, [[[-73....|\n",
      "|Feature| 10|{4, Queens, http:...|{Polygon, [[[-73....|\n",
      "|Feature| 11|{4, Queens, http:...|{Polygon, [[[-73....|\n",
      "|Feature| 12|{4, Queens, http:...|{Polygon, [[[-73....|\n",
      "|Feature| 13|{4, Queens, http:...|{Polygon, [[[-73....|\n",
      "|Feature| 14|{4, Queens, http:...|{Polygon, [[[-73....|\n",
      "|Feature| 15|{4, Queens, http:...|{Polygon, [[[-73....|\n",
      "|Feature| 16|{4, Queens, http:...|{Polygon, [[[-73....|\n",
      "|Feature| 17|{4, Queens, http:...|{Polygon, [[[-73....|\n",
      "|Feature| 18|{4, Queens, http:...|{Polygon, [[[-73....|\n",
      "|Feature| 19|{4, Queens, http:...|{Polygon, [[[-73....|\n",
      "+-------+---+--------------------+--------------------+\n",
      "only showing top 20 rows\n",
      "\n",
      "104\n"
     ]
    }
   ],
   "source": [
    "# View the schema\n",
    "geojson_df.printSchema()\n",
    "\n",
    "# Show the data\n",
    "geojson_df.show()\n",
    "geojson_df = geojson_df.na.drop() #remove the NULL values\n",
    "\n",
    "# Show the resulting DataFrame\n",
    "geojson_df.show()\n",
    "\n",
    "num_rows = geojson_df.count()\n",
    "print(num_rows)"
   ]
  },
  {
   "cell_type": "markdown",
   "id": "d4a8b54e-e2db-4fae-b155-71864b44bdf3",
   "metadata": {},
   "source": [
    "## Installing `shapely` for handling geometric data"
   ]
  },
  {
   "cell_type": "code",
   "execution_count": 4,
   "id": "3179a389-e928-4d9f-9960-a5dcd46d28fd",
   "metadata": {},
   "outputs": [
    {
     "name": "stdout",
     "output_type": "stream",
     "text": [
      "Requirement already satisfied: shapely in /opt/conda/lib/python3.11/site-packages (2.0.4)\n",
      "Requirement already satisfied: numpy<3,>=1.14 in /opt/conda/lib/python3.11/site-packages (from shapely) (1.26.4)\n"
     ]
    }
   ],
   "source": [
    "!pip install shapely"
   ]
  },
  {
   "cell_type": "markdown",
   "id": "614fda07-4e05-42c9-8fd6-d0c06fa0febc",
   "metadata": {},
   "source": [
    "## Converting coordinates to polygons and enriching the data"
   ]
  },
  {
   "cell_type": "code",
   "execution_count": 5,
   "id": "351d369e-016a-4cf4-ba78-9269d4884e9d",
   "metadata": {},
   "outputs": [],
   "source": [
    "from pyspark.sql.functions import udf, col\n",
    "from shapely.geometry import shape, Point"
   ]
  },
  {
   "cell_type": "code",
   "execution_count": 6,
   "id": "d8b857e1-59b9-456b-bd45-387b641ae3ed",
   "metadata": {},
   "outputs": [
    {
     "name": "stdout",
     "output_type": "stream",
     "text": [
      "root\n",
      " |-- type: string (nullable = true)\n",
      " |-- id: long (nullable = true)\n",
      " |-- properties: struct (nullable = true)\n",
      " |    |-- boroughCode: long (nullable = true)\n",
      " |    |-- borough: string (nullable = true)\n",
      " |    |-- @id: string (nullable = true)\n",
      " |-- geometry: struct (nullable = true)\n",
      " |    |-- type: string (nullable = true)\n",
      " |    |-- coordinates: array (nullable = true)\n",
      " |    |    |-- element: array (containsNull = true)\n",
      " |    |    |    |-- element: array (containsNull = true)\n",
      " |    |    |    |    |-- element: double (containsNull = true)\n",
      " |-- area: double (nullable = true)\n",
      "\n",
      "+-------+---+--------------------+--------------------+--------------------+\n",
      "|   type| id|          properties|            geometry|                area|\n",
      "+-------+---+--------------------+--------------------+--------------------+\n",
      "|Feature| 72|{1, Manhattan, ht...|{Polygon, [[[-73....|0.005859077996035753|\n",
      "|Feature| 71|{1, Manhattan, ht...|{Polygon, [[[-73....|2.327165585676201...|\n",
      "|Feature| 51|{1, Manhattan, ht...|{Polygon, [[[-74....|  7.6037752599342E-5|\n",
      "|Feature| 69|{1, Manhattan, ht...|{Polygon, [[[-73....| 6.23157479510608E-5|\n",
      "|Feature| 73|{1, Manhattan, ht...|{Polygon, [[[-73....|3.265859127204495...|\n",
      "|Feature| 57|{1, Manhattan, ht...|{Polygon, [[[-74....|1.182888313767709...|\n",
      "|Feature| 49|{1, Manhattan, ht...|{Polygon, [[[-74....|6.143638903459381E-6|\n",
      "|Feature| 58|{1, Manhattan, ht...|{Polygon, [[[-73....|3.383127367444441...|\n",
      "|Feature| 50|{1, Manhattan, ht...|{Polygon, [[[-74....|2.858823502476497E-6|\n",
      "|Feature| 53|{1, Manhattan, ht...|{Polygon, [[[-74....|2.393654308790746E-6|\n",
      "|Feature| 52|{1, Manhattan, ht...|{Polygon, [[[-74....|2.334554077223592...|\n",
      "|Feature| 55|{1, Manhattan, ht...|{Polygon, [[[-73....|2.262734097676114...|\n",
      "|Feature| 47|{1, Manhattan, ht...|{Polygon, [[[-74....|2.246529747538856...|\n",
      "|Feature| 48|{1, Manhattan, ht...|{Polygon, [[[-74....| 2.24116737819868E-6|\n",
      "|Feature| 46|{1, Manhattan, ht...|{Polygon, [[[-74....|2.209445592708930...|\n",
      "|Feature| 56|{1, Manhattan, ht...|{Polygon, [[[-73....|2.048636296050274...|\n",
      "|Feature| 45|{1, Manhattan, ht...|{Polygon, [[[-74....|1.330049477425571...|\n",
      "|Feature| 70|{1, Manhattan, ht...|{Polygon, [[[-73....|1.111177055165405...|\n",
      "|Feature| 67|{1, Manhattan, ht...|{Polygon, [[[-73....|2.354033827718773E-7|\n",
      "|Feature| 65|{1, Manhattan, ht...|{Polygon, [[[-73....|2.092902292672452...|\n",
      "+-------+---+--------------------+--------------------+--------------------+\n",
      "only showing top 20 rows\n",
      "\n"
     ]
    }
   ],
   "source": [
    "#here i try to enrich the JSON data with shapely\n",
    "\n",
    "#define a UDF to convert the geometry array to a Shapely polygon\n",
    "def array_to_polygon(coordinates):\n",
    "    polygon = shape({\"type\": \"Polygon\", \"coordinates\": coordinates})\n",
    "    return polygon\n",
    "\n",
    "def polygon_area(coordinates):\n",
    "    polygon = shape({\"type\": \"Polygon\", \"coordinates\": coordinates})\n",
    "    return polygon.area\n",
    "    \n",
    "#define UDFs\n",
    "array_to_polygon_udf = udf(array_to_polygon, StructType([StructField(\"type\", StringType()), StructField(\"coordinates\", StringType())]))\n",
    "polygon_area_udf = udf(polygon_area, DoubleType())\n",
    "\n",
    "# Enrich the GeoJSON DataFrame with the Shapely polygons\n",
    "enriched_geojson = (geojson_df.withColumn(\"area\", polygon_area_udf(\"geometry.coordinates\")))\n",
    "\n",
    "# Now the enriched_geojson DataFrame will have a new column 'polygon' containing Shapely polygon objects\n",
    "enriched_geojson.printSchema()\n",
    "\n",
    "sorted_enriched_geojson = enriched_geojson.orderBy(col(\"properties.boroughCode\"), col(\"area\").desc())\n",
    "\n",
    "#showing causes an error, but it should be sorted\n",
    "sorted_enriched_geojson.show()"
   ]
  },
  {
   "cell_type": "markdown",
   "id": "43f49e58-0431-4d77-b4fa-6b45664847d6",
   "metadata": {},
   "source": [
    "## UDF for checking what borough a point is located in"
   ]
  },
  {
   "cell_type": "code",
   "execution_count": 7,
   "id": "f86540b5-78b2-4b3f-b03e-25f0a45424dc",
   "metadata": {},
   "outputs": [],
   "source": [
    "from pyspark.sql.functions import broadcast\n",
    "\n",
    "\n",
    "geojson_iterable = enriched_geojson.collect()\n",
    "\n",
    "\n",
    "# Define a UDF to get the borough name\n",
    "def get_borough_name(lat, lon, data):\n",
    "    point = Point(lon, lat)\n",
    "    for row in data:\n",
    "        polygon = shape({\"type\": \"Polygon\", \"coordinates\": row[\"geometry\"][\"coordinates\"]})\n",
    "        if polygon.contains(point):\n",
    "            return row[\"properties\"][\"borough\"]\n",
    "    return None\n",
    "\n",
    "# Register the UDF\n",
    "get_borough_name_udf = udf(lambda lat, lon: get_borough_name(lat, lon, geojson_iterable), StringType())\n",
    "\n",
    "    "
   ]
  },
  {
   "cell_type": "markdown",
   "id": "3d76c806-625e-418a-bf2c-a639be0b383a",
   "metadata": {},
   "source": [
    "## Reading in the taxi data"
   ]
  },
  {
   "cell_type": "code",
   "execution_count": 8,
   "id": "47b4a056-ab03-40f4-b827-7906ab11ed57",
   "metadata": {},
   "outputs": [
    {
     "name": "stdout",
     "output_type": "stream",
     "text": [
      "root\n",
      " |-- medallion: string (nullable = true)\n",
      " |-- hack_license: string (nullable = true)\n",
      " |-- vendor_id: string (nullable = true)\n",
      " |-- rate_code: integer (nullable = true)\n",
      " |-- store_and_fwd_flag: string (nullable = true)\n",
      " |-- pickup_datetime: timestamp (nullable = true)\n",
      " |-- dropoff_datetime: timestamp (nullable = true)\n",
      " |-- passenger_count: integer (nullable = true)\n",
      " |-- trip_time_in_secs: integer (nullable = true)\n",
      " |-- trip_distance: double (nullable = true)\n",
      " |-- pickup_longitude: double (nullable = true)\n",
      " |-- pickup_latitude: double (nullable = true)\n",
      " |-- dropoff_longitude: double (nullable = true)\n",
      " |-- dropoff_latitude: double (nullable = true)\n",
      "\n",
      "+--------------------+--------------------+---------+---------+------------------+-------------------+-------------------+---------------+-----------------+-------------+----------------+---------------+-----------------+----------------+\n",
      "|           medallion|        hack_license|vendor_id|rate_code|store_and_fwd_flag|    pickup_datetime|   dropoff_datetime|passenger_count|trip_time_in_secs|trip_distance|pickup_longitude|pickup_latitude|dropoff_longitude|dropoff_latitude|\n",
      "+--------------------+--------------------+---------+---------+------------------+-------------------+-------------------+---------------+-----------------+-------------+----------------+---------------+-----------------+----------------+\n",
      "|89D227B655E5C82AE...|BA96DE419E711691B...|      CMT|        1|                 N|2013-01-01 15:11:48|2013-01-01 15:18:10|              4|              382|          1.0|      -73.978165|      40.757977|       -73.989838|       40.751171|\n",
      "|0BD7C8F5BA12B88E0...|9FD8F69F0804BDB55...|      CMT|        1|                 N|2013-01-06 00:18:35|2013-01-06 00:22:54|              1|              259|          1.5|      -74.006683|      40.731781|       -73.994499|        40.75066|\n",
      "|0BD7C8F5BA12B88E0...|9FD8F69F0804BDB55...|      CMT|        1|                 N|2013-01-05 18:49:41|2013-01-05 18:54:23|              1|              282|          1.1|      -74.004707|       40.73777|       -74.009834|       40.726002|\n",
      "|DFD2202EE08F7A8DC...|51EE87E3205C985EF...|      CMT|        1|                 N|2013-01-07 23:54:15|2013-01-07 23:58:20|              2|              244|          0.7|      -73.974602|      40.759945|       -73.984734|       40.759388|\n",
      "|DFD2202EE08F7A8DC...|51EE87E3205C985EF...|      CMT|        1|                 N|2013-01-07 23:25:03|2013-01-07 23:34:24|              1|              560|          2.1|       -73.97625|      40.748528|       -74.002586|       40.747868|\n",
      "|20D9ECB2CA0767CF7...|598CCE5B9C1918568...|      CMT|        1|                 N|2013-01-07 15:27:48|2013-01-07 15:38:37|              1|              648|          1.7|      -73.966743|      40.764252|       -73.983322|       40.743763|\n",
      "|496644932DF393260...|513189AD756FF14FE...|      CMT|        1|                 N|2013-01-08 11:01:15|2013-01-08 11:08:14|              1|              418|          0.8|      -73.995804|      40.743977|       -74.007416|       40.744343|\n",
      "|0B57B9633A2FECD3D...|CCD4367B417ED6634...|      CMT|        1|                 N|2013-01-07 12:39:18|2013-01-07 13:10:56|              3|             1898|         10.7|      -73.989937|      40.756775|        -73.86525|        40.77063|\n",
      "|2C0E91FF20A856C89...|1DA2F6543A62B8ED9...|      CMT|        1|                 N|2013-01-07 18:15:47|2013-01-07 18:20:47|              1|              299|          0.8|      -73.980072|      40.743137|       -73.982712|       40.735336|\n",
      "|2D4B95E2FA7B2E851...|CD2F522EEE1FF5F5A...|      CMT|        1|                 N|2013-01-07 15:33:28|2013-01-07 15:49:26|              2|              957|          2.5|      -73.977936|      40.786983|       -73.952919|        40.80637|\n",
      "|E12F6AF991172EAC3...|06918214E951FA000...|      CMT|        1|                 N|2013-01-08 13:11:52|2013-01-08 13:19:50|              1|              477|          1.3|      -73.982452|      40.773167|       -73.964134|       40.773815|\n",
      "|E12F6AF991172EAC3...|06918214E951FA000...|      CMT|        1|                 N|2013-01-08 09:50:05|2013-01-08 10:02:54|              1|              768|          0.7|       -73.99556|      40.749294|       -73.988686|       40.759052|\n",
      "|78FFD9CD0CDA541F3...|E949C583ECF62C8F0...|      CMT|        1|                 N|2013-01-10 12:07:08|2013-01-10 12:17:29|              1|              620|          2.3|      -73.971497|      40.791321|       -73.964478|       40.775921|\n",
      "|237F49C3ECC11F502...|93C363DDF8ED9385D...|      CMT|        1|                 N|2013-01-07 07:35:47|2013-01-07 07:46:00|              1|              612|          2.3|       -73.98851|      40.774307|       -73.981094|       40.755325|\n",
      "|3349F919AA8AE5DC9...|7CE849FEF67514F08...|      CMT|        1|                 N|2013-01-10 15:42:29|2013-01-10 16:04:02|              1|             1293|          3.2|      -73.994911|      40.723221|       -73.971558|       40.761612|\n",
      "|3349F919AA8AE5DC9...|7CE849FEF67514F08...|      CMT|        1|                 N|2013-01-10 14:27:28|2013-01-10 14:45:21|              1|             1073|          4.4|      -74.010391|      40.708702|       -73.987846|       40.756104|\n",
      "|4C005EEBAA7BF26B8...|351BE7D984BE17DB2...|      CMT|        1|                 N|2013-01-07 22:09:59|2013-01-07 22:19:50|              1|              591|          1.7|      -73.973732|      40.756287|       -73.998413|       40.756832|\n",
      "|7D99C30FCE69B1A9D...|460C3F57DD9CB2265...|      CMT|        1|                 N|2013-01-07 17:18:16|2013-01-07 17:20:55|              1|              158|          0.7|      -73.968925|      40.767704|        -73.96199|       40.776566|\n",
      "|E6FBF80668FE0611A...|36773E80775F26CD1...|      CMT|        1|                 N|2013-01-07 06:08:51|2013-01-07 06:13:14|              1|              262|          1.7|       -73.96212|      40.769737|       -73.979561|        40.75539|\n",
      "|0C5296F3C8B16E702...|D2363240A9295EF57...|      CMT|        1|                 N|2013-01-07 22:25:46|2013-01-07 22:36:56|              1|              669|          2.3|      -73.989708|      40.756714|       -73.977615|       40.787575|\n",
      "+--------------------+--------------------+---------+---------+------------------+-------------------+-------------------+---------------+-----------------+-------------+----------------+---------------+-----------------+----------------+\n",
      "only showing top 20 rows\n",
      "\n"
     ]
    }
   ],
   "source": [
    "sample_df = spark.read.csv(\"sample.csv\", header=True, inferSchema=True)\n",
    "\n",
    "# Show the DataFrame schema and some sample data\n",
    "sample_df.printSchema()\n",
    "sample_df.show()"
   ]
  },
  {
   "cell_type": "markdown",
   "id": "d4f13e13-12b6-46df-9418-1a2afe043fab",
   "metadata": {},
   "source": [
    "## Enriching the taxi data with pickup and dropoff borough"
   ]
  },
  {
   "cell_type": "code",
   "execution_count": 9,
   "id": "fb97e269-9d8f-4998-8c8d-64a02f78ae65",
   "metadata": {},
   "outputs": [
    {
     "name": "stdout",
     "output_type": "stream",
     "text": [
      "root\n",
      " |-- medallion: string (nullable = true)\n",
      " |-- hack_license: string (nullable = true)\n",
      " |-- vendor_id: string (nullable = true)\n",
      " |-- rate_code: integer (nullable = true)\n",
      " |-- store_and_fwd_flag: string (nullable = true)\n",
      " |-- pickup_datetime: timestamp (nullable = true)\n",
      " |-- dropoff_datetime: timestamp (nullable = true)\n",
      " |-- passenger_count: integer (nullable = true)\n",
      " |-- trip_time_in_secs: integer (nullable = true)\n",
      " |-- trip_distance: double (nullable = true)\n",
      " |-- pickup_longitude: double (nullable = true)\n",
      " |-- pickup_latitude: double (nullable = true)\n",
      " |-- dropoff_longitude: double (nullable = true)\n",
      " |-- dropoff_latitude: double (nullable = true)\n",
      " |-- pickup_borough: string (nullable = true)\n",
      " |-- dropoff_borough: string (nullable = true)\n",
      "\n",
      "+--------------------+--------------------+---------+---------+------------------+-------------------+-------------------+---------------+-----------------+-------------+----------------+---------------+-----------------+----------------+--------------+---------------+\n",
      "|           medallion|        hack_license|vendor_id|rate_code|store_and_fwd_flag|    pickup_datetime|   dropoff_datetime|passenger_count|trip_time_in_secs|trip_distance|pickup_longitude|pickup_latitude|dropoff_longitude|dropoff_latitude|pickup_borough|dropoff_borough|\n",
      "+--------------------+--------------------+---------+---------+------------------+-------------------+-------------------+---------------+-----------------+-------------+----------------+---------------+-----------------+----------------+--------------+---------------+\n",
      "|89D227B655E5C82AE...|BA96DE419E711691B...|      CMT|        1|                 N|2013-01-01 15:11:48|2013-01-01 15:18:10|              4|              382|          1.0|      -73.978165|      40.757977|       -73.989838|       40.751171|     Manhattan|      Manhattan|\n",
      "|0BD7C8F5BA12B88E0...|9FD8F69F0804BDB55...|      CMT|        1|                 N|2013-01-06 00:18:35|2013-01-06 00:22:54|              1|              259|          1.5|      -74.006683|      40.731781|       -73.994499|        40.75066|     Manhattan|      Manhattan|\n",
      "|0BD7C8F5BA12B88E0...|9FD8F69F0804BDB55...|      CMT|        1|                 N|2013-01-05 18:49:41|2013-01-05 18:54:23|              1|              282|          1.1|      -74.004707|       40.73777|       -74.009834|       40.726002|     Manhattan|      Manhattan|\n",
      "|DFD2202EE08F7A8DC...|51EE87E3205C985EF...|      CMT|        1|                 N|2013-01-07 23:54:15|2013-01-07 23:58:20|              2|              244|          0.7|      -73.974602|      40.759945|       -73.984734|       40.759388|     Manhattan|      Manhattan|\n",
      "|DFD2202EE08F7A8DC...|51EE87E3205C985EF...|      CMT|        1|                 N|2013-01-07 23:25:03|2013-01-07 23:34:24|              1|              560|          2.1|       -73.97625|      40.748528|       -74.002586|       40.747868|     Manhattan|      Manhattan|\n",
      "|20D9ECB2CA0767CF7...|598CCE5B9C1918568...|      CMT|        1|                 N|2013-01-07 15:27:48|2013-01-07 15:38:37|              1|              648|          1.7|      -73.966743|      40.764252|       -73.983322|       40.743763|     Manhattan|      Manhattan|\n",
      "|496644932DF393260...|513189AD756FF14FE...|      CMT|        1|                 N|2013-01-08 11:01:15|2013-01-08 11:08:14|              1|              418|          0.8|      -73.995804|      40.743977|       -74.007416|       40.744343|     Manhattan|      Manhattan|\n",
      "|0B57B9633A2FECD3D...|CCD4367B417ED6634...|      CMT|        1|                 N|2013-01-07 12:39:18|2013-01-07 13:10:56|              3|             1898|         10.7|      -73.989937|      40.756775|        -73.86525|        40.77063|     Manhattan|         Queens|\n",
      "|2C0E91FF20A856C89...|1DA2F6543A62B8ED9...|      CMT|        1|                 N|2013-01-07 18:15:47|2013-01-07 18:20:47|              1|              299|          0.8|      -73.980072|      40.743137|       -73.982712|       40.735336|     Manhattan|      Manhattan|\n",
      "|2D4B95E2FA7B2E851...|CD2F522EEE1FF5F5A...|      CMT|        1|                 N|2013-01-07 15:33:28|2013-01-07 15:49:26|              2|              957|          2.5|      -73.977936|      40.786983|       -73.952919|        40.80637|     Manhattan|      Manhattan|\n",
      "|E12F6AF991172EAC3...|06918214E951FA000...|      CMT|        1|                 N|2013-01-08 13:11:52|2013-01-08 13:19:50|              1|              477|          1.3|      -73.982452|      40.773167|       -73.964134|       40.773815|     Manhattan|      Manhattan|\n",
      "|E12F6AF991172EAC3...|06918214E951FA000...|      CMT|        1|                 N|2013-01-08 09:50:05|2013-01-08 10:02:54|              1|              768|          0.7|       -73.99556|      40.749294|       -73.988686|       40.759052|     Manhattan|      Manhattan|\n",
      "|78FFD9CD0CDA541F3...|E949C583ECF62C8F0...|      CMT|        1|                 N|2013-01-10 12:07:08|2013-01-10 12:17:29|              1|              620|          2.3|      -73.971497|      40.791321|       -73.964478|       40.775921|     Manhattan|      Manhattan|\n",
      "|237F49C3ECC11F502...|93C363DDF8ED9385D...|      CMT|        1|                 N|2013-01-07 07:35:47|2013-01-07 07:46:00|              1|              612|          2.3|       -73.98851|      40.774307|       -73.981094|       40.755325|     Manhattan|      Manhattan|\n",
      "|3349F919AA8AE5DC9...|7CE849FEF67514F08...|      CMT|        1|                 N|2013-01-10 15:42:29|2013-01-10 16:04:02|              1|             1293|          3.2|      -73.994911|      40.723221|       -73.971558|       40.761612|     Manhattan|      Manhattan|\n",
      "|3349F919AA8AE5DC9...|7CE849FEF67514F08...|      CMT|        1|                 N|2013-01-10 14:27:28|2013-01-10 14:45:21|              1|             1073|          4.4|      -74.010391|      40.708702|       -73.987846|       40.756104|     Manhattan|      Manhattan|\n",
      "|4C005EEBAA7BF26B8...|351BE7D984BE17DB2...|      CMT|        1|                 N|2013-01-07 22:09:59|2013-01-07 22:19:50|              1|              591|          1.7|      -73.973732|      40.756287|       -73.998413|       40.756832|     Manhattan|      Manhattan|\n",
      "|7D99C30FCE69B1A9D...|460C3F57DD9CB2265...|      CMT|        1|                 N|2013-01-07 17:18:16|2013-01-07 17:20:55|              1|              158|          0.7|      -73.968925|      40.767704|        -73.96199|       40.776566|     Manhattan|      Manhattan|\n",
      "|E6FBF80668FE0611A...|36773E80775F26CD1...|      CMT|        1|                 N|2013-01-07 06:08:51|2013-01-07 06:13:14|              1|              262|          1.7|       -73.96212|      40.769737|       -73.979561|        40.75539|     Manhattan|      Manhattan|\n",
      "|0C5296F3C8B16E702...|D2363240A9295EF57...|      CMT|        1|                 N|2013-01-07 22:25:46|2013-01-07 22:36:56|              1|              669|          2.3|      -73.989708|      40.756714|       -73.977615|       40.787575|     Manhattan|      Manhattan|\n",
      "+--------------------+--------------------+---------+---------+------------------+-------------------+-------------------+---------------+-----------------+-------------+----------------+---------------+-----------------+----------------+--------------+---------------+\n",
      "only showing top 20 rows\n",
      "\n"
     ]
    }
   ],
   "source": [
    "# Enrich Taxi Ride Data\n",
    "enriched_sample_data = (sample_df.withColumn(\"pickup_borough\", get_borough_name_udf(\"pickup_latitude\", \"pickup_longitude\"))\n",
    "                               .withColumn(\"dropoff_borough\", get_borough_name_udf(\"dropoff_latitude\", \"dropoff_longitude\"))\n",
    "                       )\n",
    "\n",
    "enriched_sample_data.printSchema()\n",
    "enriched_sample_data.show()\n"
   ]
  },
  {
   "cell_type": "markdown",
   "id": "cf676e9a-7442-4c66-85dd-72f0bb1dbb35",
   "metadata": {},
   "source": [
    "## Adding trip duration and filtering trips based on duration"
   ]
  },
  {
   "cell_type": "markdown",
   "id": "0ce3577d-22c8-4274-a085-6ef252d040c3",
   "metadata": {},
   "source": [
    "The cutoff time of 4 hours is based off of this line in the project description:\n",
    "> After computing [the duration], we can drop records whose \n",
    "duration is either negative or above a given threshold,<b> say 4 hour</b>s  afte  convertin them to \r\n",
    "milliseconds."
   ]
  },
  {
   "cell_type": "code",
   "execution_count": 10,
   "id": "63751b04-4b7e-4c70-8336-565d44c1c04a",
   "metadata": {},
   "outputs": [],
   "source": [
    "from pyspark.sql.functions import unix_timestamp\n",
    "\n",
    "#convert the timestamps\n",
    "enriched_sample_data = enriched_sample_data.withColumn(\"pickup_ts_ms\", unix_timestamp(\"pickup_datetime\") * 1000) \\\n",
    "    .withColumn(\"dropoff_ts_ms\", unix_timestamp(\"dropoff_datetime\") * 1000)\n",
    "\n",
    "#we compute the time and filter out the ones we don't want\n",
    "enriched_sample_data = enriched_sample_data.withColumn(\"duration_ms\", col(\"dropoff_ts_ms\") - col(\"pickup_ts_ms\"))\n",
    "threshold_duration_ms = 4 * 60 * 60 * 1000  # 4 hours in milliseconds\n",
    "cleaned_sample_data = enriched_sample_data.filter((col(\"duration_ms\") >= 0) & (col(\"duration_ms\") <= threshold_duration_ms))\n",
    "\n",
    "#drop unnecessary columns\n",
    "cleaned_sample_data = cleaned_sample_data.drop(\"pickup_ts_ms\", \"dropoff_ts_ms\")"
   ]
  },
  {
   "cell_type": "code",
   "execution_count": 11,
   "id": "5f7c5372-0af6-4ba8-ad60-2c30dfafda93",
   "metadata": {},
   "outputs": [
    {
     "name": "stdout",
     "output_type": "stream",
     "text": [
      "+--------------------+--------------------+---------+---------+------------------+-------------------+-------------------+---------------+-----------------+-------------+----------------+---------------+-----------------+----------------+--------------+---------------+-----------+\n",
      "|           medallion|        hack_license|vendor_id|rate_code|store_and_fwd_flag|    pickup_datetime|   dropoff_datetime|passenger_count|trip_time_in_secs|trip_distance|pickup_longitude|pickup_latitude|dropoff_longitude|dropoff_latitude|pickup_borough|dropoff_borough|duration_ms|\n",
      "+--------------------+--------------------+---------+---------+------------------+-------------------+-------------------+---------------+-----------------+-------------+----------------+---------------+-----------------+----------------+--------------+---------------+-----------+\n",
      "|89D227B655E5C82AE...|BA96DE419E711691B...|      CMT|        1|                 N|2013-01-01 15:11:48|2013-01-01 15:18:10|              4|              382|          1.0|      -73.978165|      40.757977|       -73.989838|       40.751171|     Manhattan|      Manhattan|     382000|\n",
      "|0BD7C8F5BA12B88E0...|9FD8F69F0804BDB55...|      CMT|        1|                 N|2013-01-06 00:18:35|2013-01-06 00:22:54|              1|              259|          1.5|      -74.006683|      40.731781|       -73.994499|        40.75066|     Manhattan|      Manhattan|     259000|\n",
      "|0BD7C8F5BA12B88E0...|9FD8F69F0804BDB55...|      CMT|        1|                 N|2013-01-05 18:49:41|2013-01-05 18:54:23|              1|              282|          1.1|      -74.004707|       40.73777|       -74.009834|       40.726002|     Manhattan|      Manhattan|     282000|\n",
      "|DFD2202EE08F7A8DC...|51EE87E3205C985EF...|      CMT|        1|                 N|2013-01-07 23:54:15|2013-01-07 23:58:20|              2|              244|          0.7|      -73.974602|      40.759945|       -73.984734|       40.759388|     Manhattan|      Manhattan|     245000|\n",
      "|DFD2202EE08F7A8DC...|51EE87E3205C985EF...|      CMT|        1|                 N|2013-01-07 23:25:03|2013-01-07 23:34:24|              1|              560|          2.1|       -73.97625|      40.748528|       -74.002586|       40.747868|     Manhattan|      Manhattan|     561000|\n",
      "|20D9ECB2CA0767CF7...|598CCE5B9C1918568...|      CMT|        1|                 N|2013-01-07 15:27:48|2013-01-07 15:38:37|              1|              648|          1.7|      -73.966743|      40.764252|       -73.983322|       40.743763|     Manhattan|      Manhattan|     649000|\n",
      "|496644932DF393260...|513189AD756FF14FE...|      CMT|        1|                 N|2013-01-08 11:01:15|2013-01-08 11:08:14|              1|              418|          0.8|      -73.995804|      40.743977|       -74.007416|       40.744343|     Manhattan|      Manhattan|     419000|\n",
      "|0B57B9633A2FECD3D...|CCD4367B417ED6634...|      CMT|        1|                 N|2013-01-07 12:39:18|2013-01-07 13:10:56|              3|             1898|         10.7|      -73.989937|      40.756775|        -73.86525|        40.77063|     Manhattan|         Queens|    1898000|\n",
      "|2C0E91FF20A856C89...|1DA2F6543A62B8ED9...|      CMT|        1|                 N|2013-01-07 18:15:47|2013-01-07 18:20:47|              1|              299|          0.8|      -73.980072|      40.743137|       -73.982712|       40.735336|     Manhattan|      Manhattan|     300000|\n",
      "|2D4B95E2FA7B2E851...|CD2F522EEE1FF5F5A...|      CMT|        1|                 N|2013-01-07 15:33:28|2013-01-07 15:49:26|              2|              957|          2.5|      -73.977936|      40.786983|       -73.952919|        40.80637|     Manhattan|      Manhattan|     958000|\n",
      "|E12F6AF991172EAC3...|06918214E951FA000...|      CMT|        1|                 N|2013-01-08 13:11:52|2013-01-08 13:19:50|              1|              477|          1.3|      -73.982452|      40.773167|       -73.964134|       40.773815|     Manhattan|      Manhattan|     478000|\n",
      "|E12F6AF991172EAC3...|06918214E951FA000...|      CMT|        1|                 N|2013-01-08 09:50:05|2013-01-08 10:02:54|              1|              768|          0.7|       -73.99556|      40.749294|       -73.988686|       40.759052|     Manhattan|      Manhattan|     769000|\n",
      "|78FFD9CD0CDA541F3...|E949C583ECF62C8F0...|      CMT|        1|                 N|2013-01-10 12:07:08|2013-01-10 12:17:29|              1|              620|          2.3|      -73.971497|      40.791321|       -73.964478|       40.775921|     Manhattan|      Manhattan|     621000|\n",
      "|237F49C3ECC11F502...|93C363DDF8ED9385D...|      CMT|        1|                 N|2013-01-07 07:35:47|2013-01-07 07:46:00|              1|              612|          2.3|       -73.98851|      40.774307|       -73.981094|       40.755325|     Manhattan|      Manhattan|     613000|\n",
      "|3349F919AA8AE5DC9...|7CE849FEF67514F08...|      CMT|        1|                 N|2013-01-10 15:42:29|2013-01-10 16:04:02|              1|             1293|          3.2|      -73.994911|      40.723221|       -73.971558|       40.761612|     Manhattan|      Manhattan|    1293000|\n",
      "|3349F919AA8AE5DC9...|7CE849FEF67514F08...|      CMT|        1|                 N|2013-01-10 14:27:28|2013-01-10 14:45:21|              1|             1073|          4.4|      -74.010391|      40.708702|       -73.987846|       40.756104|     Manhattan|      Manhattan|    1073000|\n",
      "|4C005EEBAA7BF26B8...|351BE7D984BE17DB2...|      CMT|        1|                 N|2013-01-07 22:09:59|2013-01-07 22:19:50|              1|              591|          1.7|      -73.973732|      40.756287|       -73.998413|       40.756832|     Manhattan|      Manhattan|     591000|\n",
      "|7D99C30FCE69B1A9D...|460C3F57DD9CB2265...|      CMT|        1|                 N|2013-01-07 17:18:16|2013-01-07 17:20:55|              1|              158|          0.7|      -73.968925|      40.767704|        -73.96199|       40.776566|     Manhattan|      Manhattan|     159000|\n",
      "|E6FBF80668FE0611A...|36773E80775F26CD1...|      CMT|        1|                 N|2013-01-07 06:08:51|2013-01-07 06:13:14|              1|              262|          1.7|       -73.96212|      40.769737|       -73.979561|        40.75539|     Manhattan|      Manhattan|     263000|\n",
      "|0C5296F3C8B16E702...|D2363240A9295EF57...|      CMT|        1|                 N|2013-01-07 22:25:46|2013-01-07 22:36:56|              1|              669|          2.3|      -73.989708|      40.756714|       -73.977615|       40.787575|     Manhattan|      Manhattan|     670000|\n",
      "+--------------------+--------------------+---------+---------+------------------+-------------------+-------------------+---------------+-----------------+-------------+----------------+---------------+-----------------+----------------+--------------+---------------+-----------+\n",
      "only showing top 20 rows\n",
      "\n"
     ]
    }
   ],
   "source": [
    "cleaned_sample_data.show()"
   ]
  },
  {
   "cell_type": "markdown",
   "id": "8ebef5e9-e042-4e0c-8e16-a4377ca669b1",
   "metadata": {},
   "source": [
    "# Query 1 - Idle time"
   ]
  },
  {
   "cell_type": "markdown",
   "id": "ea07f992-c5ef-4e94-a9f9-a435b67bdf91",
   "metadata": {},
   "source": [
    "> Utilization: This is per taxi/driver. This can be computed by computing the idle \n",
    "time per taxi. We will elaborate on that more later\r"
   ]
  },
  {
   "cell_type": "markdown",
   "id": "f09f8a62-9c55-4df8-a0ad-aaaf07c72218",
   "metadata": {},
   "source": [
    "### <font color=red><b>TO DO:</b> According to the project description the data should be shuffled <b>before sorting</b> \"to guarantee that all trip records for the same driver will be available for each worker\" but I'm not sure how to do this. -Karl</font>"
   ]
  },
  {
   "cell_type": "markdown",
   "id": "e1145860-ae1b-482e-b20d-302ba2124206",
   "metadata": {},
   "source": [
    "## UDF for calculating idle time between two timestamps"
   ]
  },
  {
   "cell_type": "code",
   "execution_count": 12,
   "id": "caf6ecee-c584-4adf-9bb7-93f93e63d723",
   "metadata": {},
   "outputs": [],
   "source": [
    "# Create UDF for finding idle time between two times\n",
    "def idle_time_ms(start_ms, prev_end_ms):\n",
    "    if start_ms is None or prev_end_ms is None:\n",
    "        return 0\n",
    "    idle_ms = start_ms - prev_end_ms\n",
    "    threshold_duration_ms = 4 * 60 * 60 * 1000  # 4 hours in milliseconds\n",
    "    if idle_ms < 0 or idle_ms > threshold_duration_ms:\n",
    "        return 0\n",
    "    else:\n",
    "        return idle_ms\n",
    "    \n",
    "# Define as UDF\n",
    "idle_time_ms_udf = udf(idle_time_ms, LongType())"
   ]
  },
  {
   "cell_type": "markdown",
   "id": "8472f97b-defb-42e4-b1bc-839c26c96324",
   "metadata": {},
   "source": [
    "## Step-by-step calculation of the query"
   ]
  },
  {
   "cell_type": "code",
   "execution_count": 13,
   "id": "eb54a924-37e8-49d1-8336-8e755d53b121",
   "metadata": {},
   "outputs": [],
   "source": [
    "from pyspark.sql import Window\n",
    "from pyspark.sql.functions import lag, unix_timestamp, sum, col\n",
    "from datetime import datetime\n",
    "\n",
    "# Configure the window\n",
    "# Medallion refers to the vehicle, hack_license refers to the driver\n",
    "window_conf = Window.partitionBy(col(\"medallion\")).orderBy(col(\"pickup_datetime\"))\n",
    "\n",
    "# TODO: Add shuffling here\n",
    "#   ...\n",
    "taxi_util_data = cleaned_sample_data\n",
    "\n",
    "# Add column with pickup datetime of previous\n",
    "# NB! The default value for the lag might not be correct\n",
    "taxi_util_data_sorted = taxi_util_data.withColumn(\"dropoff_datetime_prev\", lag(col(\"dropoff_datetime\"), default=datetime.min).over(window_conf))\n",
    "\n",
    "# Convert to timestamp\n",
    "taxi_util_data_sorted_ts = taxi_util_data_sorted.withColumn(\"pickup_ts_ms\", unix_timestamp(\"pickup_datetime\") * 1000) \\\n",
    "    .withColumn(\"dropoff_prev_ts_ms\", unix_timestamp(\"dropoff_datetime_prev\") * 1000)\n",
    "\n",
    "# Calculate idle time per ride\n",
    "taxi_util_data_idle = taxi_util_data_sorted_ts.withColumn(\"idle_time_ms\", idle_time_ms_udf(\"pickup_ts_ms\", \"dropoff_prev_ts_ms\"))\n",
    "\n",
    "# Calculate total idle time per taxi\n",
    "taxi_util_data_idle_total = taxi_util_data_idle.groupBy(col(\"medallion\")).agg(sum(col(\"idle_time_ms\")))"
   ]
  },
  {
   "cell_type": "code",
   "execution_count": 14,
   "id": "1dfac63b-dee9-4edd-b124-2ac560ed5e0c",
   "metadata": {},
   "outputs": [
    {
     "name": "stdout",
     "output_type": "stream",
     "text": [
      "+--------------------+-----------------+\n",
      "|           medallion|sum(idle_time_ms)|\n",
      "+--------------------+-----------------+\n",
      "|0F621E366CFE63044...|         30600000|\n",
      "|223670562219093D6...|         14580000|\n",
      "|496036713FC662D71...|          8520000|\n",
      "|4F4CA97166A04A455...|         21900000|\n",
      "|5803D6EAD49AEAA82...|                0|\n",
      "|59DF6039EC312EE6D...|         23040000|\n",
      "|5CCB4924B158F945B...|         23520000|\n",
      "|618BB39CEEAE5E9A6...|          8640000|\n",
      "|6AFD7E44A278CFD00...|          8640000|\n",
      "|72EAFBA3FB9F0507C...|         13800000|\n",
      "|73039762E0F4B253E...|         23400000|\n",
      "|753BC0484097BB236...|         33840000|\n",
      "|7550D0BD520A691EC...|         21840000|\n",
      "|764CA5AE502C0FEC9...|          3266000|\n",
      "|80F732B990A7E3763...|         25440000|\n",
      "|846DFE2D59F6E76EC...|         23400000|\n",
      "|87EB479F55B88D47C...|          5580000|\n",
      "|911B6F71706854496...|         15660000|\n",
      "|963BEE5F306952D20...|         13980000|\n",
      "|9DAAD7BFA53C91605...|         10560000|\n",
      "+--------------------+-----------------+\n",
      "only showing top 20 rows\n",
      "\n"
     ]
    }
   ],
   "source": [
    "taxi_util_data_idle_total.show()"
   ]
  },
  {
   "cell_type": "code",
   "execution_count": null,
   "id": "2b9b731e-40da-465c-99a1-4812363dbc3e",
   "metadata": {},
   "outputs": [],
   "source": []
  }
 ],
 "metadata": {
  "kernelspec": {
   "display_name": "Python 3 (ipykernel)",
   "language": "python",
   "name": "python3"
  },
  "language_info": {
   "codemirror_mode": {
    "name": "ipython",
    "version": 3
   },
   "file_extension": ".py",
   "mimetype": "text/x-python",
   "name": "python",
   "nbconvert_exporter": "python",
   "pygments_lexer": "ipython3",
   "version": "3.11.7"
  }
 },
 "nbformat": 4,
 "nbformat_minor": 5
}
