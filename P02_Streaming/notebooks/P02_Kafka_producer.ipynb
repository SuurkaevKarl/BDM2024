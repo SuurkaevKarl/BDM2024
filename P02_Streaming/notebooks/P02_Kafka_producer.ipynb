{
 "cells": [
  {
   "cell_type": "code",
   "execution_count": 1,
   "id": "5a8b9a94",
   "metadata": {},
   "outputs": [
    {
     "name": "stdout",
     "output_type": "stream",
     "text": [
      "Requirement already satisfied: confluent_kafka in /opt/conda/lib/python3.11/site-packages (2.4.0)\n",
      "Requirement already satisfied: sseclient in /opt/conda/lib/python3.11/site-packages (0.0.27)\n",
      "Requirement already satisfied: requests>=2.9 in /opt/conda/lib/python3.11/site-packages (from sseclient) (2.31.0)\n",
      "Requirement already satisfied: six in /opt/conda/lib/python3.11/site-packages (from sseclient) (1.16.0)\n",
      "Requirement already satisfied: charset-normalizer<4,>=2 in /opt/conda/lib/python3.11/site-packages (from requests>=2.9->sseclient) (3.3.2)\n",
      "Requirement already satisfied: idna<4,>=2.5 in /opt/conda/lib/python3.11/site-packages (from requests>=2.9->sseclient) (3.6)\n",
      "Requirement already satisfied: urllib3<3,>=1.21.1 in /opt/conda/lib/python3.11/site-packages (from requests>=2.9->sseclient) (2.2.0)\n",
      "Requirement already satisfied: certifi>=2017.4.17 in /opt/conda/lib/python3.11/site-packages (from requests>=2.9->sseclient) (2024.2.2)\n"
     ]
    }
   ],
   "source": [
    "!pip install confluent_kafka sseclient"
   ]
  },
  {
   "cell_type": "code",
   "execution_count": 10,
   "id": "2e778584",
   "metadata": {},
   "outputs": [],
   "source": [
    "from confluent_kafka import SerializingProducer, DeserializingConsumer\n",
    "from confluent_kafka.serialization import StringSerializer, StringDeserializer\n",
    "from confluent_kafka.admin import AdminClient, NewTopic\n",
    "from uuid import uuid4\n",
    "import sys, random\n",
    "\n",
    "\n",
    "brokers = \"kafka1:9092,kafka2:9093\"\n",
    "topic = \"taxi_rides\""
   ]
  },
  {
   "cell_type": "code",
   "execution_count": 11,
   "id": "ef7871fb",
   "metadata": {},
   "outputs": [],
   "source": [
    "pconf = {\n",
    "    'bootstrap.servers': brokers,\n",
    "    'partitioner': 'murmur2_random',\n",
    "    'key.serializer': StringSerializer('utf_8'),\n",
    "    'value.serializer':  StringSerializer('utf_8')\n",
    "}"
   ]
  },
  {
   "cell_type": "code",
   "execution_count": 12,
   "id": "46183cdf",
   "metadata": {},
   "outputs": [],
   "source": [
    "p = SerializingProducer(pconf)"
   ]
  },
  {
   "cell_type": "code",
   "execution_count": 13,
   "id": "fd849c8f",
   "metadata": {},
   "outputs": [],
   "source": [
    "from datetime import datetime  \n",
    "  #2023-10-13T08:16:13Z\n",
    "def construct_stock(row):\n",
    "    time_stamp = time.time()\n",
    "    date_time = datetime.fromtimestamp(time_stamp)\n",
    "    str_date_time = date_time.strftime(\"%Y-%m-%dT%H:%M:%SZ\") #\"%d-%m-%Y, %H:%M:%S\"\n",
    "    stock = {\"TODO\": row[6],\n",
    "             \"TODO\": float(row[2]),\n",
    "             \"timestamp\":str_date_time\n",
    "             }\n",
    "    return stock\n",
    "\n",
    "\n",
    "def construct_taxi_ride(row):\n",
    "    time_stamp = time.time()\n",
    "    date_time = datetime.fromtimestamp(time_stamp)\n",
    "    str_date_time = date_time.strftime(\"%Y-%m-%dT%H:%M:%SZ\")  # ISO format timestamp\n",
    "    taxi_ride = {\n",
    "        \"medallion\": row[0],\n",
    "        \"hack_license\": row[1],\n",
    "        \"pickup_datetime\": row[5],\n",
    "        \"dropoff_datetime\": row[6],\n",
    "        \"pickup_longitude\": float(row[10]),\n",
    "        \"pickup_latitude\": float(row[11]),\n",
    "        \"dropoff_longitude\": float(row[12]),\n",
    "        \"dropoff_latitude\": float(row[13]),\n",
    "        \"timestamp\": str_date_time\n",
    "    }\n",
    "    return taxi_ride"
   ]
  },
  {
   "cell_type": "code",
   "execution_count": 16,
   "id": "06e266f9",
   "metadata": {
    "scrolled": true
   },
   "outputs": [
    {
     "name": "stdout",
     "output_type": "stream",
     "text": [
      "\n",
      "{'medallion': '89D227B655E5C82AECF13C3F540D4CF4', 'hack_license': 'BA96DE419E711691B9445D6A6307C170', 'pickup_datetime': '2013-01-01 15:11:48', 'dropoff_datetime': '2013-01-01 15:18:10', 'pickup_longitude': -73.978165, 'pickup_latitude': 40.757977, 'dropoff_longitude': -73.989838, 'dropoff_latitude': 40.751171, 'timestamp': '2024-06-04T13:57:37Z'}\n",
      "...................................."
     ]
    },
    {
     "ename": "KeyboardInterrupt",
     "evalue": "",
     "output_type": "error",
     "traceback": [
      "\u001b[0;31m---------------------------------------------------------------------------\u001b[0m",
      "\u001b[0;31mKeyboardInterrupt\u001b[0m                         Traceback (most recent call last)",
      "Cell \u001b[0;32mIn[16], line 26\u001b[0m\n\u001b[1;32m     23\u001b[0m         p\u001b[38;5;241m.\u001b[39mpoll(\u001b[38;5;241m0\u001b[39m)\n\u001b[1;32m     24\u001b[0m         \u001b[38;5;66;03m# Commented this out since it creates a 5 minute delay between sending each row\u001b[39;00m\n\u001b[1;32m     25\u001b[0m         \u001b[38;5;66;03m#p.flush()\u001b[39;00m\n\u001b[0;32m---> 26\u001b[0m         time\u001b[38;5;241m.\u001b[39msleep(delay_in_seconds)\n\u001b[1;32m     27\u001b[0m         n \u001b[38;5;241m+\u001b[39m\u001b[38;5;241m=\u001b[39m \u001b[38;5;241m1\u001b[39m\n\u001b[1;32m     28\u001b[0m \u001b[38;5;28;01mexcept\u001b[39;00m \u001b[38;5;167;01mBufferError\u001b[39;00m:\n",
      "\u001b[0;31mKeyboardInterrupt\u001b[0m: "
     ]
    }
   ],
   "source": [
    "import csv, json\n",
    "import time\n",
    "\n",
    "n = 0\n",
    "delay_in_seconds = 3\n",
    "print_nth = 100\n",
    "\n",
    "with open('sample.csv') as csv_file:\n",
    "    csv_reader = csv.reader(csv_file, delimiter=',')\n",
    "    header = next(csv_reader)  # Skip the header row\n",
    "    try:\n",
    "        for row in csv_reader:\n",
    "            #if n == 100:\n",
    "             #  break\n",
    "            taxi_ride = construct_taxi_ride(row)\n",
    "            # Uncomment this to see every nth sent row\n",
    "            if n % print_nth == 0:\n",
    "                print()\n",
    "                print(taxi_ride)\n",
    "            else:\n",
    "                print(\".\", end=\"\")\n",
    "            p.produce(topic, value=json.dumps(taxi_ride))\n",
    "            p.poll(0)\n",
    "            # Commented this out since it creates a 5 minute delay between sending each row\n",
    "            #p.flush()\n",
    "            time.sleep(delay_in_seconds)\n",
    "            n += 1\n",
    "    except BufferError:\n",
    "        sys.stderr.write('%% Local producer queue is full (%d messages awaiting delivery): try again\\n' % len(p))\n",
    "\n",
    "    "
   ]
  },
  {
   "cell_type": "markdown",
   "id": "5d0a3766-7c7e-4792-8929-e92740f7aed7",
   "metadata": {},
   "source": [
    "### Use only if you need to purge all the messages in the queue"
   ]
  },
  {
   "cell_type": "code",
   "execution_count": null,
   "id": "c449281e-8c82-4d8f-a9db-030d2dcdcf07",
   "metadata": {},
   "outputs": [],
   "source": [
    "brokers = \"kafka1:9092,kafka2:9093\"\n",
    "\n",
    "admin_client = AdminClient({\"bootstrap.servers\":brokers})\n",
    "admin_client.delete_topics(topics=[\"taxi_rides\"])"
   ]
  },
  {
   "cell_type": "code",
   "execution_count": null,
   "id": "25d88831-9a75-44ce-8486-8d0ece9f92fb",
   "metadata": {},
   "outputs": [],
   "source": []
  }
 ],
 "metadata": {
  "kernelspec": {
   "display_name": "Python 3 (ipykernel)",
   "language": "python",
   "name": "python3"
  },
  "language_info": {
   "codemirror_mode": {
    "name": "ipython",
    "version": 3
   },
   "file_extension": ".py",
   "mimetype": "text/x-python",
   "name": "python",
   "nbconvert_exporter": "python",
   "pygments_lexer": "ipython3",
   "version": "3.11.7"
  }
 },
 "nbformat": 4,
 "nbformat_minor": 5
}
